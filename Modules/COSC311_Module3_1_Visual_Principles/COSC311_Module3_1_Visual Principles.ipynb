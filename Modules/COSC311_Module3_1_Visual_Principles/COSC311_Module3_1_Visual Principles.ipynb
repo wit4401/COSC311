{
 "cells": [
  {
   "cell_type": "markdown",
   "id": "fcbe051f",
   "metadata": {},
   "source": [
    "# COSC 311: Introduction to Data Visualization and Interpretation"
   ]
  },
  {
   "cell_type": "markdown",
   "id": "64ce2161",
   "metadata": {},
   "source": [
    "Instructor: Dr. Shuangquan (Peter) Wang\n",
    "\n",
    "Email: spwang@salisbury.edu\n",
    "\n",
    "Department of Computer Science, Salisbury University\n"
   ]
  },
  {
   "cell_type": "markdown",
   "id": "02d2d080",
   "metadata": {},
   "source": [
    "# Module 3_Data Plotting and Visualization\n",
    "\n",
    "## 1. Visual principles & plotting\n",
    "\n"
   ]
  },
  {
   "cell_type": "markdown",
   "id": "4677a6e7",
   "metadata": {},
   "source": [
    "**Contents of this note refer to 1) Dr. Joe Anderson's teaching materials; 2) textbook \"Data Science from Scratch\"; 3) https://www.w3schools.com/python/numpy/default.asp**"
   ]
  },
  {
   "cell_type": "markdown",
   "id": "d3e85de5",
   "metadata": {},
   "source": [
    "**<font color=red>All rights reserved. Dissemination or sale of any part of this note is NOT permitted.</font>**"
   ]
  },
  {
   "cell_type": "markdown",
   "id": "3878549f",
   "metadata": {},
   "source": [
    "## Visual principles\n",
    "\n",
    "Please refer to the PDF file (COSC311_Module3_1_Visual Principles.pdf)"
   ]
  },
  {
   "cell_type": "markdown",
   "id": "0a9a25df",
   "metadata": {},
   "source": [
    "## matplotlib and Graph types\n"
   ]
  },
  {
   "cell_type": "markdown",
   "id": "7f394b32",
   "metadata": {},
   "source": [
    "matplotlib is a comprehensive library for creating static, animated, and interactive visualizations in Python. "
   ]
  },
  {
   "cell_type": "code",
   "execution_count": null,
   "id": "9d15d246",
   "metadata": {},
   "outputs": [],
   "source": [
    "from matplotlib import pyplot as plt\n",
    "\n",
    "years = [1950, 1960, 1970, 1980, 1990, 2000, 2010]\n",
    "gdp = [300.2, 543.3, 1075.9, 2862.5, 5979.6, 10289.7, 14958.3]\n",
    "\n",
    "# create a line chart, years on x-axis, gdp on y-axis\n",
    "# https://matplotlib.org/3.5.3/api/_as_gen/matplotlib.pyplot.plot.html\n",
    "plt.plot(years, gdp, color='green', marker='o', linestyle='solid')\n",
    "\n",
    "# add a title\n",
    "# matplotlib.pyplot.title(label, fontdict=None, loc=None, pad=None, *, y=None, **kwargs)\n",
    "plt.title(\"Nominal GDP\")\n",
    "\n",
    "# add a label to the y-axis\n",
    "plt.ylabel(\"Billions of $\")\n",
    "\n",
    "# matplotlib.pyplot.show(*, block=None)\n",
    "# Display all open figures.\n",
    "plt.show()\n",
    "\n",
    "# if you want to save this figure as a file, comment out line plt.show() and uncomment the following line \n",
    "# plt.savefig('viz_gdp.png')\n"
   ]
  },
  {
   "cell_type": "markdown",
   "id": "5459f4d9",
   "metadata": {},
   "source": [
    "## Bar charts\n",
    "\n",
    "A good choice when you want to show how some quantity varies among some discrete set of items.\n",
    "\n",
    "The following example shows how many Academy Awards were won by each of a variety of movies:"
   ]
  },
  {
   "cell_type": "code",
   "execution_count": null,
   "id": "428cfb6b",
   "metadata": {},
   "outputs": [],
   "source": [
    "movies = [\"Annie Hall\", \"Ben-Hur\", \"Casablanca\", \"Gandhi\", \"West Side Story\"]\n",
    "num_oscars = [5, 11, 3, 8, 10]\n",
    "\n",
    "# plot bars with x-coordinates [0, 1, 2, 3, 4], heights [num_oscars]\n",
    "plt.bar(range(len(movies)), num_oscars)\n",
    "\n",
    "plt.title(\"My Favorite Movies\")     # add a title\n",
    "plt.ylabel(\"# of Academy Awards\")   # label the y-axis\n",
    "\n",
    "# label x-axis with movie names at bar centers\n",
    "plt.xticks(range(len(movies)), movies)\n",
    "\n",
    "plt.show()\n"
   ]
  },
  {
   "cell_type": "markdown",
   "id": "823bf816",
   "metadata": {},
   "source": [
    "Before introducing the next example, let's look at the Counter class in collections module."
   ]
  },
  {
   "cell_type": "markdown",
   "id": "f166b939",
   "metadata": {},
   "source": [
    "### Counter class in collections module\n",
    "\n",
    "A Counter is a dict subclass for counting hashable objects. It is a collection where elements are stored as dictionary keys and their counts are stored as dictionary values. Counts are allowed to be any integer value including zero or negative counts. The Counter class is similar to bags or multisets in other languages."
   ]
  },
  {
   "cell_type": "code",
   "execution_count": null,
   "id": "fcec08fa",
   "metadata": {},
   "outputs": [],
   "source": [
    "from collections import Counter"
   ]
  },
  {
   "cell_type": "code",
   "execution_count": null,
   "id": "9ae94537",
   "metadata": {},
   "outputs": [],
   "source": [
    "xs = [1,2,3,4,3,2,3,1,2,1,1,2,3,2]"
   ]
  },
  {
   "cell_type": "code",
   "execution_count": null,
   "id": "2e7aa096",
   "metadata": {},
   "outputs": [],
   "source": [
    "counts = Counter(xs)"
   ]
  },
  {
   "cell_type": "code",
   "execution_count": null,
   "id": "86a52730",
   "metadata": {},
   "outputs": [],
   "source": [
    "counts"
   ]
  },
  {
   "cell_type": "code",
   "execution_count": null,
   "id": "5e17670c",
   "metadata": {},
   "outputs": [],
   "source": [
    "counts.keys()"
   ]
  },
  {
   "cell_type": "code",
   "execution_count": null,
   "id": "aa923fef",
   "metadata": {},
   "outputs": [],
   "source": [
    "counts.values()"
   ]
  },
  {
   "cell_type": "code",
   "execution_count": null,
   "id": "9eb1dce2",
   "metadata": {},
   "outputs": [],
   "source": [
    "max(counts.values())"
   ]
  },
  {
   "cell_type": "code",
   "execution_count": null,
   "id": "3666a2b4",
   "metadata": {},
   "outputs": [],
   "source": [
    "counts.items()"
   ]
  },
  {
   "cell_type": "code",
   "execution_count": null,
   "id": "1d3300c4",
   "metadata": {},
   "outputs": [],
   "source": [
    "[x[0] for x in counts.items() if x[1] == max(counts.values())]"
   ]
  },
  {
   "cell_type": "code",
   "execution_count": null,
   "id": "8466eb06",
   "metadata": {},
   "outputs": [],
   "source": [
    "x = []\n",
    "for val, count in counts.items():\n",
    "    if count == max(counts.values()):\n",
    "#         x += [val]\n",
    "        x.append(val)\n",
    "x"
   ]
  },
  {
   "cell_type": "code",
   "execution_count": null,
   "id": "7eb60065",
   "metadata": {},
   "outputs": [],
   "source": [
    "sorted([1,2,3,4,3,2,3,1,2,1,1,2,3,2])"
   ]
  },
  {
   "cell_type": "code",
   "execution_count": null,
   "id": "0d26ef6c",
   "metadata": {},
   "outputs": [],
   "source": [
    "len([1,2,3,4,3,2,3,1,2,1,1,2,3,2])"
   ]
  },
  {
   "cell_type": "markdown",
   "id": "f2745ef8",
   "metadata": {},
   "source": [
    "### Another example for bar chart\n",
    "Bar chart can also be a good choice for plotting histograms of bucketed numeric values to show how the values are distributed."
   ]
  },
  {
   "cell_type": "code",
   "execution_count": null,
   "id": "79802559",
   "metadata": {},
   "outputs": [],
   "source": [
    "# The collection Module in Python provides different types of containers. \n",
    "# A Container is an object that is used to store different objects and provide a way to \n",
    "# access the contained objects and iterate over them. Some of the built-in containers are \n",
    "# Tuple, List, Dictionary, etc. \n",
    "# https://www.geeksforgeeks.org/python-collections-module/\n",
    "\n",
    "from collections import Counter\n",
    "grades = [83, 95, 91, 87, 70, 0, 85, 82, 100, 67, 73, 77, 0]\n",
    "\n",
    "# Bucket grades by decile, but put 100 in with the 90s\n",
    "histogram = Counter(min(grade // 10 * 10, 90) for grade in grades)\n",
    "print(histogram)\n",
    "\n",
    "plt.bar([x + 5 for x in histogram.keys()],  # Shift bars right by 5\n",
    "        histogram.values(),                 # Give each bar its correct height\n",
    "        10,                                 # Give each bar a width of 10\n",
    "        edgecolor=(0, 0, 0))                # Black edges for each bar\n",
    "\n",
    "plt.axis([-5, 105, 0, 5])                  # x-axis from -5 to 105,\n",
    "                                           # y-axis from 0 to 5\n",
    "\n",
    "plt.xticks([10 * i for i in range(11)])    # x-axis labels at 0, 10, ..., 100\n",
    "plt.xlabel(\"Decile\")\n",
    "plt.ylabel(\"# of Students\")\n",
    "plt.title(\"Distribution of Exam 1 Grades\")\n",
    "plt.show()\n",
    "\n"
   ]
  },
  {
   "cell_type": "markdown",
   "id": "91c3de8a",
   "metadata": {},
   "source": [
    "## Line chart\n",
    "\n",
    "Line chart is a good choice to show the trends"
   ]
  },
  {
   "cell_type": "code",
   "execution_count": null,
   "id": "9f2d8b9f",
   "metadata": {},
   "outputs": [],
   "source": [
    "variance     = [1, 2, 4, 8, 16, 32, 64, 128, 256]\n",
    "bias_squared = [256, 128, 64, 32, 16, 8, 4, 2, 1]\n",
    "\n",
    "# https://www.geeksforgeeks.org/zip-in-python/\n",
    "total_error  = [x + y for x, y in zip(variance, bias_squared)]\n",
    "# https://www.geeksforgeeks.org/enumerate-in-python/\n",
    "xs = [i for i, _ in enumerate(variance)]\n",
    "\n",
    "# We can make multiple calls to plt.plot\n",
    "# to show multiple series on the same chart\n",
    "plt.plot(xs, variance,     'g-',  label='variance')    # green solid line\n",
    "plt.plot(xs, bias_squared, 'r-.', label='bias^2')      # red dot-dashed line\n",
    "plt.plot(xs, total_error,  'b:',  label='total error') # blue dotted line\n",
    "\n",
    "# Because we've assigned labels to each series,\n",
    "# we can get a legend for free (loc=9 means \"top center\")\n",
    "plt.legend(loc=9)\n",
    "plt.xlabel(\"model complexity\")\n",
    "plt.xticks([])\n",
    "plt.title(\"The Bias-Variance Tradeoff\")\n",
    "plt.show()\n"
   ]
  },
  {
   "cell_type": "markdown",
   "id": "45fc27d9",
   "metadata": {},
   "source": [
    "## Scatterplots\n",
    "\n",
    "A scatterplot is a good choice to show the relationship between two paired sets of data.\n",
    "\n",
    "The following figure shows the relationship between the number of friends your users have and the number of minutes they spend on the site every day:"
   ]
  },
  {
   "cell_type": "code",
   "execution_count": null,
   "id": "c90c5a5c",
   "metadata": {},
   "outputs": [],
   "source": [
    "friends = [ 70,  65,  72,  63,  71,  64,  60,  64,  67]\n",
    "minutes = [175, 170, 205, 120, 220, 130, 105, 145, 190]\n",
    "labels =  ['a', 'b', 'c', 'd', 'e', 'f', 'g', 'h', 'i']\n",
    "\n",
    "plt.scatter(friends, minutes)\n",
    "\n",
    "# label each point\n",
    "for label, friend_count, minute_count in zip(labels, friends, minutes):\n",
    "    plt.annotate(label,\n",
    "        xy=(friend_count, minute_count), # Put the label with its point\n",
    "        xytext=(5, -5),                  # but slightly offset\n",
    "        textcoords='offset points')\n",
    "\n",
    "plt.title(\"Daily Minutes vs. Number of Friends\")\n",
    "plt.xlabel(\"# of friends\")\n",
    "plt.ylabel(\"daily minutes spent on the site\")\n",
    "plt.show()\n"
   ]
  },
  {
   "cell_type": "code",
   "execution_count": null,
   "id": "d5b03e93",
   "metadata": {},
   "outputs": [],
   "source": []
  },
  {
   "cell_type": "markdown",
   "id": "5506d4d6",
   "metadata": {},
   "source": [
    "## Data plotting example: adult dataset\n",
    "\n",
    "The adult dataset: https://archive.ics.uci.edu/ml/datasets/adult"
   ]
  },
  {
   "cell_type": "code",
   "execution_count": null,
   "id": "acad104f",
   "metadata": {},
   "outputs": [],
   "source": [
    "import numpy as np\n",
    "import pandas as pd\n",
    "from matplotlib import pyplot as plt\n",
    "import seaborn as sb"
   ]
  },
  {
   "cell_type": "code",
   "execution_count": null,
   "id": "d4802568",
   "metadata": {},
   "outputs": [],
   "source": [
    "adults = pd.read_csv('adult.data', header=None, skipinitialspace=True,\n",
    "    names = ['age', 'workclass', 'fnlwgt', 'education', 'education-num',\n",
    "            'marital-status', 'occupation', 'relationship', 'race', 'sex',\n",
    "            'capital-gain', 'capital-loss', 'hours-per-week', 'native-country', 'income']\n",
    ")"
   ]
  },
  {
   "cell_type": "code",
   "execution_count": null,
   "id": "ffc9516a",
   "metadata": {},
   "outputs": [],
   "source": [
    "adults.head()"
   ]
  },
  {
   "cell_type": "code",
   "execution_count": null,
   "id": "8795fa7d",
   "metadata": {},
   "outputs": [],
   "source": [
    "adults[:5]['education'] == 'Bachelors'"
   ]
  },
  {
   "cell_type": "code",
   "execution_count": null,
   "id": "7089622d",
   "metadata": {},
   "outputs": [],
   "source": [
    "adults[:1]['age'] == 39"
   ]
  },
  {
   "cell_type": "code",
   "execution_count": null,
   "id": "963b15da",
   "metadata": {
    "scrolled": true
   },
   "outputs": [],
   "source": [
    "adults.info()"
   ]
  },
  {
   "cell_type": "code",
   "execution_count": null,
   "id": "3304b174",
   "metadata": {},
   "outputs": [],
   "source": [
    "# histogram the ages of these adults?\n",
    "# to ask what does the distribution of ages look like?\n",
    "adults['age'].hist(bins=20)"
   ]
  },
  {
   "cell_type": "code",
   "execution_count": null,
   "id": "0e05f39a",
   "metadata": {},
   "outputs": [],
   "source": [
    "# compare the ages of the two income classes\n",
    "adults['age'][adults['income'] == '<=50K'].hist(bins=20)\n",
    "adults['age'][adults['income'] == '>50K'].hist(bins=20)"
   ]
  },
  {
   "cell_type": "code",
   "execution_count": null,
   "id": "a7c40534",
   "metadata": {},
   "outputs": [],
   "source": [
    "adults['education-num'][adults['income'] == '<=50K'].hist(bins=20)\n",
    "adults['education-num'][adults['income'] == '>50K'].hist(bins=20)"
   ]
  },
  {
   "cell_type": "code",
   "execution_count": null,
   "id": "ca616f4c",
   "metadata": {},
   "outputs": [],
   "source": [
    "adults.describe()"
   ]
  },
  {
   "cell_type": "code",
   "execution_count": null,
   "id": "d25be58c",
   "metadata": {},
   "outputs": [],
   "source": [
    "adults[['education-num', 'education']]\\\n",
    "[(adults['education'] == 'HS-grad') & (adults['education-num'] == 9)]"
   ]
  },
  {
   "cell_type": "code",
   "execution_count": null,
   "id": "7a554ce8",
   "metadata": {},
   "outputs": [],
   "source": [
    "adults['education'].unique()"
   ]
  },
  {
   "cell_type": "code",
   "execution_count": null,
   "id": "ccb5fbe6",
   "metadata": {},
   "outputs": [],
   "source": []
  },
  {
   "cell_type": "code",
   "execution_count": null,
   "id": "3c3caef5",
   "metadata": {},
   "outputs": [],
   "source": [
    "ys = adults.groupby('education')[['education-num','hours-per-week']].mean().sort_values('education-num')['hours-per-week']\n",
    "\n",
    "for level in ys.keys():\n",
    "    print(f'ys[{level}] is {ys[level]}')\n",
    "\n",
    "plt.barh(ys.keys(), ys)\n",
    "plt.title('More education means more work, on average')\n",
    "plt.xlabel('Average hours worked per week')\n",
    "plt.ylabel('Highest level of education')\n",
    "plt.vlines([i for i in range(5,50,5)], ymin=0, ymax=17, colors='white')"
   ]
  },
  {
   "cell_type": "code",
   "execution_count": null,
   "id": "a2f99c92",
   "metadata": {},
   "outputs": [],
   "source": [
    "# gets the max of the series of ages for all adults having a B.S. level education\n",
    "adults[adults['education'] == 'Bachelors']['age'].max()"
   ]
  },
  {
   "cell_type": "code",
   "execution_count": null,
   "id": "9243b8ab",
   "metadata": {},
   "outputs": [],
   "source": [
    "ys = adults.groupby('education')['age'].describe()\n",
    "ys"
   ]
  },
  {
   "cell_type": "code",
   "execution_count": null,
   "id": "c2c91ad5",
   "metadata": {},
   "outputs": [],
   "source": [
    "some = adults.head()\n",
    "some"
   ]
  },
  {
   "cell_type": "code",
   "execution_count": null,
   "id": "f32cc8d1",
   "metadata": {},
   "outputs": [],
   "source": [
    "some.sort_values('education-num')"
   ]
  },
  {
   "cell_type": "code",
   "execution_count": null,
   "id": "5e58476a",
   "metadata": {},
   "outputs": [],
   "source": [
    "some.groupby('education')[['education-num','age']].max().sort_values('education-num')"
   ]
  },
  {
   "cell_type": "code",
   "execution_count": null,
   "id": "fece4458",
   "metadata": {},
   "outputs": [],
   "source": []
  },
  {
   "cell_type": "code",
   "execution_count": null,
   "id": "fce910c4",
   "metadata": {},
   "outputs": [],
   "source": [
    "ys = adults.groupby('education')[['education-num','hours-per-week']].mean().sort_values('education-num')['hours-per-week']\n",
    "\n",
    "print(ys)"
   ]
  },
  {
   "cell_type": "code",
   "execution_count": null,
   "id": "0828541f",
   "metadata": {},
   "outputs": [],
   "source": [
    "# need to import seaboarn for this\n",
    "# may need to pip install seaborn first or install seaborn in Anaconda Navigator\n",
    "\n",
    "import seaborn as sb\n",
    "sb.set_theme(font_scale=1.2, font='Times')\n",
    "\n",
    "ax = sb.barplot(x=ys, y=ys.keys(), orient=\"h\", palette='flare')\n",
    "\n",
    "ax.set(xlabel='Average hours worked per week')\n",
    "ax.set(ylabel='Education Level')\n",
    "ax.set(title='Higher Education means higher average work hours')"
   ]
  },
  {
   "cell_type": "code",
   "execution_count": null,
   "id": "a650b0e0",
   "metadata": {},
   "outputs": [],
   "source": []
  },
  {
   "cell_type": "code",
   "execution_count": null,
   "id": "0ab80ab5",
   "metadata": {},
   "outputs": [],
   "source": [
    "all_adults = adults[['age', 'fnlwgt']].groupby('age').mean()\n",
    "plt.plot(all_adults.index, all_adults['fnlwgt'])\n"
   ]
  },
  {
   "cell_type": "code",
   "execution_count": null,
   "id": "095f3756",
   "metadata": {
    "scrolled": true
   },
   "outputs": [],
   "source": [
    "tmp = adults[['age', 'income', 'sex']][(adults['income'] == '>50K') & (adults['sex'] == 'Female')]\n",
    "tmp"
   ]
  },
  {
   "cell_type": "code",
   "execution_count": null,
   "id": "433bf1ef",
   "metadata": {},
   "outputs": [],
   "source": [
    "adults.loc[0] # gets the row with index"
   ]
  },
  {
   "cell_type": "code",
   "execution_count": null,
   "id": "24c0bff7",
   "metadata": {},
   "outputs": [],
   "source": [
    "adults[0:2]"
   ]
  },
  {
   "cell_type": "code",
   "execution_count": null,
   "id": "32cb6343",
   "metadata": {},
   "outputs": [],
   "source": []
  }
 ],
 "metadata": {
  "kernelspec": {
   "display_name": "Python 3 (ipykernel)",
   "language": "python",
   "name": "python3"
  },
  "language_info": {
   "codemirror_mode": {
    "name": "ipython",
    "version": 3
   },
   "file_extension": ".py",
   "mimetype": "text/x-python",
   "name": "python",
   "nbconvert_exporter": "python",
   "pygments_lexer": "ipython3",
   "version": "3.7.1"
  }
 },
 "nbformat": 4,
 "nbformat_minor": 5
}
