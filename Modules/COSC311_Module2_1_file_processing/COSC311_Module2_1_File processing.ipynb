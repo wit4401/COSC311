{
 "cells": [
  {
   "cell_type": "markdown",
   "metadata": {},
   "source": [
    "# COSC 311: Introduction to Data Visualization and Interpretation"
   ]
  },
  {
   "cell_type": "markdown",
   "metadata": {},
   "source": [
    "Instructor: Dr. Shuangquan (Peter) Wang\n",
    "\n",
    "Email: spwang@salisbury.edu\n",
    "\n",
    "Department of Computer Science, Salisbury University\n"
   ]
  },
  {
   "cell_type": "markdown",
   "metadata": {},
   "source": [
    "# Module 2_Data Processing and Organization\n",
    "\n",
    "## 1. File processing\n",
    "\n"
   ]
  },
  {
   "cell_type": "markdown",
   "metadata": {},
   "source": [
    "**Contents of this note refer to 1) the teaching materials at Department of Computer Science, William & Mary; 2) the textbook \"Python crash course - a hands-on project-based introduction to programming\"; 3) Python toturial: https://docs.python.org/3/tutorial/**"
   ]
  },
  {
   "cell_type": "markdown",
   "metadata": {},
   "source": [
    "**<font color=red>All rights reserved. Dissemination or sale of any part of this note is NOT permitted.</font>**"
   ]
  },
  {
   "cell_type": "markdown",
   "metadata": {},
   "source": [
    "# File\n",
    "\n",
    "What is a file?\n",
    "\n",
    "File is a collection of data. It is static and stored somewhere in your computer or cloud."
   ]
  },
  {
   "cell_type": "markdown",
   "metadata": {},
   "source": [
    "## How to open a file\n",
    "\n",
    "Syntax:\n",
    "\n",
    "**file_object = open(file_name,mode to open the file)**\n",
    "\n",
    "Open file and return a corresponding file object.\n",
    "\n",
    "Mode to open the file: (refer to https://stackabuse.com/file-handling-in-python/)\n",
    "- r: Opens a file for **reading only** (*by default*)\n",
    "- r+: Opens a file for **both reading and writing**\n",
    "- w: Opens a file for **writing only**\n",
    "- w+: Open a file for **writing and reading**\n",
    "- a: Opens a file for **appending**\n",
    "- a+: Opens a file for both **appending and reading**\n",
    "\n",
    "Python looks for the file in the directory where the program that's currently being executed is stored (i.e. the data file and the program file are in the same folder).\n",
    "\n",
    "If the data file and the program file are NOT in the same folder, the file path is needed. An example for Windows system: file_name = 'C:\\python_files\\filename.txt'"
   ]
  },
  {
   "cell_type": "markdown",
   "metadata": {},
   "source": [
    "## How to read the entire file\n",
    "\n",
    "Syntax:\n",
    "\n",
    "**file_object.read()**\n",
    "\n",
    "Read the entire contents of the file and store it as a long string"
   ]
  },
  {
   "cell_type": "markdown",
   "metadata": {},
   "source": [
    "## How to read a line from the file\n",
    "\n",
    "Syntax:\n",
    "\n",
    "**file_object.readline()**"
   ]
  },
  {
   "cell_type": "markdown",
   "metadata": {},
   "source": [
    "## How to close a file\n",
    "\n",
    "Syntax:\n",
    "\n",
    "**file_object.close()**\n",
    "\n",
    "You should call **file_object.close()** to close the file and immediately free up any system resources used by it. \n",
    "\n",
    "If you don’t explicitly close a file, Python’s garbage collector will eventually destroy the object and close the open file for you, but the file may stay open for a while.\n",
    "\n",
    "You can't guarantee that the changes will be saved to the file until it is closed. Thus, it is bad to rely on garbage collector to close your file for you."
   ]
  },
  {
   "cell_type": "code",
   "execution_count": null,
   "metadata": {},
   "outputs": [],
   "source": [
    "# example: read the entire file\n",
    "my_file = open('scores_1.txt','r')\n",
    "content = my_file.read()\n",
    "print(content)\n",
    "my_file.close()"
   ]
  },
  {
   "cell_type": "code",
   "execution_count": null,
   "metadata": {},
   "outputs": [],
   "source": [
    "# example: read a line\n",
    "my_file = open('scores_1.txt','r')\n",
    "my_file.readline()"
   ]
  },
  {
   "cell_type": "code",
   "execution_count": null,
   "metadata": {},
   "outputs": [],
   "source": [
    "# pay attention to the output format\n",
    "print(my_file.readline())"
   ]
  },
  {
   "cell_type": "code",
   "execution_count": null,
   "metadata": {},
   "outputs": [],
   "source": [
    "my_file.readline()"
   ]
  },
  {
   "cell_type": "code",
   "execution_count": null,
   "metadata": {},
   "outputs": [],
   "source": [
    "my_file.readline()"
   ]
  },
  {
   "cell_type": "code",
   "execution_count": null,
   "metadata": {},
   "outputs": [],
   "source": [
    "my_file.readline()"
   ]
  },
  {
   "cell_type": "code",
   "execution_count": null,
   "metadata": {},
   "outputs": [],
   "source": [
    "my_file.readline()"
   ]
  },
  {
   "cell_type": "code",
   "execution_count": null,
   "metadata": {},
   "outputs": [],
   "source": [
    "my_file.readline()"
   ]
  },
  {
   "cell_type": "code",
   "execution_count": null,
   "metadata": {},
   "outputs": [],
   "source": [
    "my_file.readline()"
   ]
  },
  {
   "cell_type": "code",
   "execution_count": null,
   "metadata": {},
   "outputs": [],
   "source": [
    "my_file.readline()"
   ]
  },
  {
   "cell_type": "code",
   "execution_count": null,
   "metadata": {},
   "outputs": [],
   "source": [
    "my_file.readline()"
   ]
  },
  {
   "cell_type": "code",
   "execution_count": null,
   "metadata": {},
   "outputs": [],
   "source": [
    "my_file.readline()"
   ]
  },
  {
   "cell_type": "code",
   "execution_count": null,
   "metadata": {},
   "outputs": [],
   "source": [
    "my_file.close()"
   ]
  },
  {
   "cell_type": "markdown",
   "metadata": {},
   "source": [
    "**Example:**\n",
    "\n",
    "Calculating the mean value of numbers in above file."
   ]
  },
  {
   "cell_type": "code",
   "execution_count": null,
   "metadata": {},
   "outputs": [],
   "source": [
    "# Calculating the mean value of numbers in file scores_1.txt\n",
    "my_file = open('scores_1.txt','r')\n",
    "all_scores = 0\n",
    "counter = 0\n",
    "\n",
    "new_score = my_file.readline()\n",
    "while new_score != '':\n",
    "    all_scores += int(new_score)\n",
    "    counter += 1\n",
    "    new_score = my_file.readline()\n",
    "print(all_scores/counter)\n",
    "my_file.close()"
   ]
  },
  {
   "cell_type": "markdown",
   "metadata": {
    "collapsed": true
   },
   "source": [
    "**How about if there are some empty lines in the file? For example: file scores_2.txt**"
   ]
  },
  {
   "cell_type": "code",
   "execution_count": null,
   "metadata": {},
   "outputs": [],
   "source": [
    "# Calculating the mean value of numbers in file scores_2.txt\n",
    "my_file = open('scores_2.txt','r')\n",
    "all_scores = 0\n",
    "counter = 0\n",
    "\n",
    "new_score = my_file.readline()\n",
    "while new_score != '':\n",
    "    if new_score != '\\n':\n",
    "        all_scores += int(new_score)\n",
    "        counter += 1\n",
    "    new_score = my_file.readline()\n",
    "print(all_scores/counter)\n",
    "my_file.close()"
   ]
  },
  {
   "cell_type": "markdown",
   "metadata": {},
   "source": [
    "**How about if there are multiple items in one line (e.g: name & score)? For example: scores_3.txt**\n",
    "\n",
    "- **split(separator)** method returns a list of strings after breaking the given string by the specified separator (https://www.geeksforgeeks.org/python-string-split/)\n",
    "\n",
    "- If separator is not specified or is None, consecutive whitespace are regarded as a single separator (https://docs.python.org/2/library/stdtypes.html#str.split)\n",
    "\n",
    "- Whitespace include spaces, newlines '\\n' and tabs '\\t', and consecutive whitespace are processed together (https://note.nkmk.me/en/python-split-rsplit-splitlines-re/)"
   ]
  },
  {
   "cell_type": "code",
   "execution_count": null,
   "metadata": {},
   "outputs": [],
   "source": [
    "# Example\n",
    "a = 'Linda 85\\n'\n",
    "a.split()"
   ]
  },
  {
   "cell_type": "code",
   "execution_count": null,
   "metadata": {},
   "outputs": [],
   "source": [
    "# Calculating the mean value of numbers in file scores_3.txt\n",
    "my_file = open('scores_3.txt','r')\n",
    "all_scores = 0\n",
    "counter = 0\n",
    "\n",
    "new_score = my_file.readline()\n",
    "while new_score != '':\n",
    "    name_score_list = new_score.split()\n",
    "    all_scores += int(name_score_list[1])\n",
    "    counter += 1\n",
    "    new_score = my_file.readline()\n",
    "print(all_scores/counter)\n",
    "my_file.close()"
   ]
  },
  {
   "cell_type": "markdown",
   "metadata": {},
   "source": [
    "#  "
   ]
  },
  {
   "cell_type": "markdown",
   "metadata": {},
   "source": [
    "## Write to a file\n",
    "\n",
    "Syntax:\n",
    "\n",
    "**file_object.write(content)**\n",
    "\n",
    "Write content to the file. \n",
    "\n",
    "Pay attention: \n",
    "\n",
    "- You need to open the file using an appropriate mode (r+, w, w+, a, a+) before writing\n",
    "\n",
    "- Python can only write strings to a text file. If you want to store numerical data in a text file, you have to convert the data to string using str() method."
   ]
  },
  {
   "cell_type": "markdown",
   "metadata": {},
   "source": [
    "**Example:**\n",
    "\n",
    "Write 1,000 random numbers between 0 and 100 to a file named numbers.txt. Each number is in a line."
   ]
  },
  {
   "cell_type": "code",
   "execution_count": null,
   "metadata": {},
   "outputs": [],
   "source": [
    "from random import randint\n",
    "\n",
    "new_file = open('numbers.txt','w')\n",
    "for i in range(1000):\n",
    "    number = randint(0,100)\n",
    "    new_file.write(str(number) + '\\n')\n",
    "new_file.close()"
   ]
  },
  {
   "cell_type": "markdown",
   "metadata": {},
   "source": [
    "### Another way to open a file\n",
    "\n",
    "Syntax:\n",
    "\n",
    "**with open(file_name,mode to open the file) as file_object:**\n",
    "\n",
    "It is good practice to use the **with** keyword when dealing with file objects. The advantage is that the file is properly closed after its suite finishes (No need to close the file using *file_object.close()*), even if an exception is raised at some point."
   ]
  },
  {
   "cell_type": "code",
   "execution_count": null,
   "metadata": {},
   "outputs": [],
   "source": [
    "# use with keyword in above example\n",
    "from random import randint\n",
    "\n",
    "with open('numbers_2.txt','w') as new_file:\n",
    "    for i in range(1000):\n",
    "        number = randint(0,100)\n",
    "        new_file.write(str(number) + '\\n')\n"
   ]
  },
  {
   "cell_type": "markdown",
   "metadata": {},
   "source": [
    "### Use print to write to a file\n",
    "\n",
    "Syntax: \n",
    "\n",
    "**print(content,file = file_object)**\n",
    "\n",
    "No need to convert the content to string. "
   ]
  },
  {
   "cell_type": "code",
   "execution_count": null,
   "metadata": {},
   "outputs": [],
   "source": [
    "# use print to write to a file in above example\n",
    "from random import randint\n",
    "\n",
    "with open('numbers_3.txt','w') as new_file:\n",
    "    for i in range(1000):\n",
    "        number = randint(0,100)\n",
    "        print(number,file = new_file)"
   ]
  },
  {
   "cell_type": "markdown",
   "metadata": {
    "collapsed": true
   },
   "source": [
    "## Exceptions for file"
   ]
  },
  {
   "cell_type": "code",
   "execution_count": null,
   "metadata": {},
   "outputs": [],
   "source": [
    "# when the file is not existed\n",
    "f = open('goaway.txt','r')"
   ]
  },
  {
   "cell_type": "code",
   "execution_count": null,
   "metadata": {},
   "outputs": [],
   "source": [
    "# Use try & except method\n",
    "try:\n",
    "    f = open('goaway.txt','r')\n",
    "except:\n",
    "    print('file open error')"
   ]
  },
  {
   "cell_type": "code",
   "execution_count": null,
   "metadata": {},
   "outputs": [],
   "source": [
    "# more specifically, we specify the error type\n",
    "try:\n",
    "    f = open('goaway.txt','r')\n",
    "except FileNotFoundError:\n",
    "    print('file does not exist.')"
   ]
  },
  {
   "cell_type": "code",
   "execution_count": null,
   "metadata": {},
   "outputs": [],
   "source": [
    "# multiple exceptions\n",
    "try:\n",
    "    #f = open('goaway.txt','r')\n",
    "    my_list = [1,2,3,4]\n",
    "    print(my_list[5])\n",
    "except FileNotFoundError:\n",
    "    print('file does not exist.')\n",
    "except IndexError:\n",
    "    print('Index out of range of your list')"
   ]
  },
  {
   "cell_type": "markdown",
   "metadata": {},
   "source": [
    "#   "
   ]
  },
  {
   "cell_type": "markdown",
   "metadata": {},
   "source": [
    "## Application example\n",
    "\n",
    "Open and read the file named 'Bovary_Excerpt.txt', create a dictionary that uses each word in this file as a key and the appearance frequency of this word as the value. "
   ]
  },
  {
   "cell_type": "code",
   "execution_count": null,
   "metadata": {},
   "outputs": [],
   "source": [
    "word_counts = {}\n",
    "with open('Bovary_Excerpt.txt','r') as file:\n",
    "    for line in file:\n",
    "        tokens = line.upper().replace(',','').replace(';','').replace('(','').replace(')','')\\\n",
    "        .replace('!','').replace('?','').replace('.','').split()\n",
    "        for word in tokens:\n",
    "            try:\n",
    "                word_counts[word] += 1\n",
    "            except:\n",
    "                word_counts[word] = 1"
   ]
  },
  {
   "cell_type": "code",
   "execution_count": null,
   "metadata": {},
   "outputs": [],
   "source": [
    "print(word_counts['AVEC'])"
   ]
  },
  {
   "cell_type": "code",
   "execution_count": null,
   "metadata": {},
   "outputs": [],
   "source": [
    "print(word_counts['ELLE'])"
   ]
  },
  {
   "cell_type": "markdown",
   "metadata": {},
   "source": [
    "Based on the above dictionary, how about if we reverse the key and value in the dictionary? That is, we use the appearence frequency as the key and use the words as the value."
   ]
  },
  {
   "cell_type": "code",
   "execution_count": null,
   "metadata": {},
   "outputs": [],
   "source": [
    "word_lists = {}\n",
    "for word,count in word_counts.items():\n",
    "    try:\n",
    "        word_lists[count].append(word)\n",
    "    except:\n",
    "        word_lists[count] = [word]\n",
    "print(word_lists[2])"
   ]
  },
  {
   "cell_type": "code",
   "execution_count": null,
   "metadata": {},
   "outputs": [],
   "source": [
    "appearances = list(word_lists.keys()) \n",
    "#for value in word_lists.values():\n",
    "#    print(len(value))\n",
    "num_words = [len(value) for value in word_lists.values()]\n",
    "avg_len = [sum([len(word) for word in value]) / len(value) for value in word_lists.values()] # avg. word length for each key "
   ]
  },
  {
   "cell_type": "code",
   "execution_count": null,
   "metadata": {},
   "outputs": [],
   "source": [
    "print(appearances)\n",
    "print(num_words)\n",
    "print(avg_len)"
   ]
  },
  {
   "cell_type": "code",
   "execution_count": null,
   "metadata": {},
   "outputs": [],
   "source": [
    "import matplotlib.pyplot as plt \n",
    "plt.bar(appearances, avg_len)"
   ]
  },
  {
   "cell_type": "code",
   "execution_count": null,
   "metadata": {},
   "outputs": [],
   "source": []
  },
  {
   "cell_type": "markdown",
   "metadata": {},
   "source": [
    "**matplotlib.pyplot**\n",
    "\n",
    "https://matplotlib.org/stable/api/_as_gen/matplotlib.pyplot.html\n",
    "\n",
    "matplotlib.pyplot is an interface to matplotlib, which is a comprehensive library for creating static, animated, and interactive visualizations in Python. It provides a MATLAB-like way of plotting.\n",
    "\n",
    "matplotlib.pyplot is mainly intended for interactive plots and simple cases of programmatic plot generation.\n"
   ]
  },
  {
   "cell_type": "code",
   "execution_count": null,
   "metadata": {},
   "outputs": [],
   "source": [
    "import numpy as np\n",
    "import matplotlib.pyplot as plt\n",
    "\n",
    "x = np.arange(0, 5, 0.1)\n",
    "print(x)\n",
    "y = np.sin(x)\n",
    "print(y)\n",
    "plt.plot(x, y)"
   ]
  },
  {
   "cell_type": "code",
   "execution_count": null,
   "metadata": {},
   "outputs": [],
   "source": []
  }
 ],
 "metadata": {
  "kernelspec": {
   "display_name": "Python 3 (ipykernel)",
   "language": "python",
   "name": "python3"
  },
  "language_info": {
   "codemirror_mode": {
    "name": "ipython",
    "version": 3
   },
   "file_extension": ".py",
   "mimetype": "text/x-python",
   "name": "python",
   "nbconvert_exporter": "python",
   "pygments_lexer": "ipython3",
   "version": "3.7.1"
  }
 },
 "nbformat": 4,
 "nbformat_minor": 2
}
