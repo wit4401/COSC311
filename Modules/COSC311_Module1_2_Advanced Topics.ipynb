{
 "cells": [
  {
   "cell_type": "markdown",
   "metadata": {},
   "source": [
    "# COSC 311: Introduction to Data Visualization and Interpretation"
   ]
  },
  {
   "cell_type": "markdown",
   "metadata": {},
   "source": [
    "Instructor: Dr. Shuangquan (Peter) Wang\n",
    "\n",
    "Email: spwang@salisbury.edu\n",
    "\n",
    "Department of Computer Science, Salisbury University\n"
   ]
  },
  {
   "cell_type": "markdown",
   "metadata": {},
   "source": [
    "# Module 1_Python Programming Language Basics\n",
    "\n",
    "## 2_Advanced Topics\n",
    "\n"
   ]
  },
  {
   "cell_type": "markdown",
   "metadata": {},
   "source": [
    "**Contents of this note refer to 1) the teaching materials at Department of Computer Science, William & Mary; 2) the textbook \"Python crash course - a hands-on project-based introduction to programming\"; 3) Python toturial: https://docs.python.org/3/tutorial/**"
   ]
  },
  {
   "cell_type": "markdown",
   "metadata": {},
   "source": [
    "**<font color=red>All rights reserved. Dissemination or sale of any part of this note is NOT permitted.</font>**"
   ]
  },
  {
   "cell_type": "markdown",
   "metadata": {},
   "source": [
    "## Read textbook\n",
    "\n",
    "- Textbook \"Data Science from Scratch\": Chapter 2\n",
    "- \"Python Crash Course\": Chapters 6-10\n"
   ]
  },
  {
   "cell_type": "markdown",
   "metadata": {},
   "source": [
    "# List\n",
    "## Part 1: Concept and basic operations\n",
    "\n",
    "A list is a collection of items in a particular order. The elements are separated by commas and enclosed in square brackets.\n",
    "\n",
    "A list can contain any kind of data (numbers, strings, class objects, ...)"
   ]
  },
  {
   "cell_type": "code",
   "execution_count": null,
   "metadata": {},
   "outputs": [],
   "source": [
    "# example\n",
    "votes = ['yea','nay','yea','nay','yea']\n",
    "print(votes)"
   ]
  },
  {
   "cell_type": "code",
   "execution_count": null,
   "metadata": {},
   "outputs": [],
   "source": [
    "# example\n",
    "scores = [620, 600, 710, 730, 650]\n",
    "print(scores)"
   ]
  },
  {
   "cell_type": "code",
   "execution_count": null,
   "metadata": {},
   "outputs": [],
   "source": [
    "# For example \n",
    "mixed = [10, 'name', 3.14]\n",
    "print(mixed)"
   ]
  },
  {
   "cell_type": "markdown",
   "metadata": {},
   "source": [
    "### Define an empty list\n",
    "\n",
    "Syntax:\n",
    "\n",
    "1. list_name = []\n",
    "\n",
    "2. list_name = list()"
   ]
  },
  {
   "cell_type": "code",
   "execution_count": null,
   "metadata": {},
   "outputs": [],
   "source": [
    "# example\n",
    "my_list = []\n",
    "empty_list = list()\n",
    "print(my_list)\n",
    "print(empty_list)"
   ]
  },
  {
   "cell_type": "markdown",
   "metadata": {},
   "source": [
    "### How to append an element to the end of a list\n",
    "\n",
    "Syntax:\n",
    "\n",
    "list_name.append(element)"
   ]
  },
  {
   "cell_type": "code",
   "execution_count": null,
   "metadata": {},
   "outputs": [],
   "source": [
    "# example\n",
    "my_list = []\n",
    "my_list.append(100)\n",
    "print(my_list)"
   ]
  },
  {
   "cell_type": "code",
   "execution_count": null,
   "metadata": {},
   "outputs": [],
   "source": [
    "# We can NOT append more than one element each time\n",
    "my_list.append(200,300)\n",
    "print(my_list)"
   ]
  },
  {
   "cell_type": "markdown",
   "metadata": {},
   "source": [
    "### How to access elements in a list\n",
    "\n",
    "Syntax:\n",
    "\n",
    "list_name[index]\n",
    "\n",
    "**Attention:** the index range is from 0 to n-1"
   ]
  },
  {
   "cell_type": "code",
   "execution_count": null,
   "metadata": {},
   "outputs": [],
   "source": [
    "# example\n",
    "scores = [620, 600, 710, 730, 650]\n",
    "print(scores[0])"
   ]
  },
  {
   "cell_type": "markdown",
   "metadata": {},
   "source": [
    "### Use for loop to go through all elements in a list"
   ]
  },
  {
   "cell_type": "code",
   "execution_count": null,
   "metadata": {},
   "outputs": [],
   "source": [
    "# example\n",
    "scores = [620, 600, 710, 730, 650]\n",
    "\n",
    "for i in scores:\n",
    "    print(i)"
   ]
  },
  {
   "cell_type": "markdown",
   "metadata": {},
   "source": [
    "### Use len() function to count the number of elements in a list"
   ]
  },
  {
   "cell_type": "code",
   "execution_count": null,
   "metadata": {},
   "outputs": [],
   "source": [
    "# example\n",
    "scores = [620, 600, 710, 730, 650]\n",
    "print(len(scores))"
   ]
  },
  {
   "cell_type": "markdown",
   "metadata": {},
   "source": [
    "### Use \"+\" operator to concatenate two lists"
   ]
  },
  {
   "cell_type": "code",
   "execution_count": null,
   "metadata": {},
   "outputs": [],
   "source": [
    "# example\n",
    "list1 = [1,2,3] + [4,5,6]\n",
    "print(list1)"
   ]
  },
  {
   "cell_type": "markdown",
   "metadata": {},
   "source": [
    "## Part 2: More list operations\n",
    "\n",
    "### Insert an element into a list\n",
    "\n",
    "Syntax:\n",
    "\n",
    "list_name.insert(index,element_value)\n",
    "\n",
    "- Insert *element_value* at the location of the *index*\n",
    "- All the elements after this new element are shifted one position to the right"
   ]
  },
  {
   "cell_type": "code",
   "execution_count": null,
   "metadata": {},
   "outputs": [],
   "source": [
    "# example\n",
    "motocycles = ['honda','yamaha','audi']\n",
    "motocycles.insert(1,'BMW')\n",
    "print(motocycles)"
   ]
  },
  {
   "cell_type": "markdown",
   "metadata": {},
   "source": [
    "### Remove an element from a list\n",
    "\n",
    "Syntax:\n",
    "\n",
    "del list_name[index]\n",
    "\n",
    "- Delete the element at the location of the *index*\n",
    "\n",
    "- All the elements after this deleted element are shifted one position to the left"
   ]
  },
  {
   "cell_type": "code",
   "execution_count": null,
   "metadata": {},
   "outputs": [],
   "source": [
    "# example\n",
    "motocycles = ['honda','yamaha','audi']\n",
    "del motocycles[1]\n",
    "print(motocycles)"
   ]
  },
  {
   "cell_type": "markdown",
   "metadata": {},
   "source": [
    "### Sort a list\n",
    "\n",
    "Method 1: Sort a list permanently with the **sort()** method (change the order of the list permanently)\n",
    "\n",
    "Syntax:\n",
    "\n",
    "list_name.sort()\n",
    "\n",
    "- list_name.sort() modifies the list in-place"
   ]
  },
  {
   "cell_type": "code",
   "execution_count": null,
   "metadata": {},
   "outputs": [],
   "source": [
    "# example:\n",
    "list_1 = [1,5,2,3,10]\n",
    "list_1.sort()\n",
    "print(list_1)"
   ]
  },
  {
   "cell_type": "markdown",
   "metadata": {},
   "source": [
    "Method 2: Sort a list temporarily with the **sorted()** method (does not affect the actural order of the list)\n",
    "\n",
    "Syntax:\n",
    "\n",
    "sorted(list_name)\n",
    "\n",
    "- sorted() is a Python built-in method. \n",
    "- It builds a new sorted list and returns the sorted list, but does not change the original list\n"
   ]
  },
  {
   "cell_type": "code",
   "execution_count": null,
   "metadata": {},
   "outputs": [],
   "source": [
    "# example:\n",
    "list_1 = [1,5,2,3,10]\n",
    "print(sorted(list_1))\n",
    "print(list_1)"
   ]
  },
  {
   "cell_type": "markdown",
   "metadata": {},
   "source": [
    "### Slicing a list\n",
    "\n",
    "Syntax:\n",
    "\n",
    "list_name[index_1:index_2]\n",
    "\n",
    "- Return the list elements from the index_1 to (index_2 - 1)\n",
    "\n",
    "list_name[:index_2]\n",
    "\n",
    "- Return the list elements from beginning to (index_2 - 1)\n",
    "\n",
    "list_name[index_1:]\n",
    "\n",
    "- Return the list elements from the index_1 to the end"
   ]
  },
  {
   "cell_type": "code",
   "execution_count": null,
   "metadata": {},
   "outputs": [],
   "source": [
    "# Example 1\n",
    "data = [1,2,3,4]\n",
    "print(data[1:2])"
   ]
  },
  {
   "cell_type": "code",
   "execution_count": null,
   "metadata": {},
   "outputs": [],
   "source": [
    "# Example 2\n",
    "print(data[1:])"
   ]
  },
  {
   "cell_type": "code",
   "execution_count": null,
   "metadata": {},
   "outputs": [],
   "source": [
    "# Example 3\n",
    "print(data[:2])"
   ]
  },
  {
   "cell_type": "code",
   "execution_count": null,
   "metadata": {},
   "outputs": [],
   "source": [
    "# Example 4\n",
    "print(data[:])\n",
    "print(data)\n",
    "print(data[])"
   ]
  },
  {
   "cell_type": "markdown",
   "metadata": {},
   "source": [
    "### Use a negative integer to index the elements from the end of a list\n",
    "\n",
    "- The last element corresponds to index of -1\n",
    "\n",
    "- The last but one corresponds to index of -2\n",
    "\n",
    "- ......\n"
   ]
  },
  {
   "cell_type": "code",
   "execution_count": null,
   "metadata": {},
   "outputs": [],
   "source": [
    "# example\n",
    "data = [1,2,3,4]\n",
    "print(data[-1])"
   ]
  },
  {
   "cell_type": "code",
   "execution_count": null,
   "metadata": {},
   "outputs": [],
   "source": [
    "print(data[-2:])"
   ]
  },
  {
   "cell_type": "markdown",
   "metadata": {},
   "source": [
    "## Part 3: List comprehension\n",
    "\n",
    "List comprehension allows us to build up a list in a single statement."
   ]
  },
  {
   "cell_type": "markdown",
   "metadata": {},
   "source": [
    "**Example:**\n",
    "\n",
    "Create a list of the first 15 non-negative even numbers"
   ]
  },
  {
   "cell_type": "code",
   "execution_count": null,
   "metadata": {},
   "outputs": [],
   "source": [
    "# if we use a for loop\n",
    "evens = []\n",
    "for i in range(15):\n",
    "    evens.append(2*i)\n",
    "print(evens)\n",
    "print(i)"
   ]
  },
  {
   "cell_type": "code",
   "execution_count": null,
   "metadata": {},
   "outputs": [],
   "source": [
    "# if we use list comprehension\n",
    "evens = [2*i for i in range(15)]\n",
    "print(evens)\n",
    "print(i)"
   ]
  },
  {
   "cell_type": "markdown",
   "metadata": {},
   "source": [
    "Difference between the above two methods:\n",
    "\n",
    "- The index variable **i** in the for loop exists after the execution of this for loop\n",
    "\n",
    "- The variable **i** in the list comprehension does NOT exist after the list comprehension statement"
   ]
  },
  {
   "cell_type": "code",
   "execution_count": null,
   "metadata": {},
   "outputs": [],
   "source": [
    "evens = []\n",
    "for i in range(15):\n",
    "    evens.append(2*i)\n",
    "print(evens)\n",
    "print(i)"
   ]
  },
  {
   "cell_type": "code",
   "execution_count": null,
   "metadata": {},
   "outputs": [],
   "source": [
    "evens = [2*j for j in range(15)]\n",
    "print(evens)\n",
    "print(j)"
   ]
  },
  {
   "cell_type": "markdown",
   "metadata": {},
   "source": [
    "List comprehension can also incorporate **if** statement\n",
    "\n",
    "**Example:**\n",
    "\n",
    "From the frist 15 non-negative even numbers, use a list to contains all the numbers that are not divisible by 6"
   ]
  },
  {
   "cell_type": "code",
   "execution_count": null,
   "metadata": {},
   "outputs": [],
   "source": [
    "# use for loop\n",
    "evens = []\n",
    "for i in range(15):\n",
    "    if (2*i)%6 != 0:\n",
    "        evens.append(2*i)\n",
    "print(evens)"
   ]
  },
  {
   "cell_type": "code",
   "execution_count": null,
   "metadata": {},
   "outputs": [],
   "source": [
    "# use list comprehension\n",
    "evens = [2*i for i in range(15) if (2*i)%6 != 0]\n",
    "print(evens)"
   ]
  },
  {
   "cell_type": "markdown",
   "metadata": {},
   "source": [
    " "
   ]
  },
  {
   "cell_type": "markdown",
   "metadata": {},
   "source": [
    "## Tuple"
   ]
  },
  {
   "cell_type": "markdown",
   "metadata": {},
   "source": [
    "Python offers another list-like object called a tuple. A tuple works just like a list, with two substantive differences:\n",
    "\n",
    "1. The elements in a list are enclosed in square brackets. For example, a = [1,2,3]; the elements in a tuple are enclosed in parentheses. For example, b = (1,2,3)\n",
    "\n",
    "2. The elements in a list can be changed. That is, a list is **mutable**; the elements in a tuple can NOT be changed. That is, a tuple is **immutable** (A tuple is a fixed list).\n",
    "\n"
   ]
  },
  {
   "cell_type": "markdown",
   "metadata": {},
   "source": [
    "### Define a tuple\n",
    "\n",
    "Similar as defining a list, but use parentheses instead of square brackets"
   ]
  },
  {
   "cell_type": "code",
   "execution_count": null,
   "metadata": {},
   "outputs": [],
   "source": [
    "# define a tuple named dimensions\n",
    "dimensions = (200, 50)\n",
    "print(dimensions)\n",
    "print(type(dimensions))"
   ]
  },
  {
   "cell_type": "markdown",
   "metadata": {},
   "source": [
    "### Access individual element in a tuple\n",
    "\n",
    "The syntax is similar as that in list:\n",
    "\n",
    "- tuple_name[index] \n",
    "- The index range is from 0 to length-1"
   ]
  },
  {
   "cell_type": "code",
   "execution_count": null,
   "metadata": {},
   "outputs": [],
   "source": [
    "dimensions = (200, 50)\n",
    "print(dimensions[0])"
   ]
  },
  {
   "cell_type": "code",
   "execution_count": null,
   "metadata": {},
   "outputs": [],
   "source": [
    "print(dimensions[1])"
   ]
  },
  {
   "cell_type": "markdown",
   "metadata": {},
   "source": [
    "### Loop through all the elements in a tuple"
   ]
  },
  {
   "cell_type": "code",
   "execution_count": null,
   "metadata": {},
   "outputs": [],
   "source": [
    "# Use a for loop to loop through all the elements\n",
    "dimensions = (200, 50)\n",
    "for dimension in dimensions:\n",
    "    print(dimension)"
   ]
  },
  {
   "cell_type": "markdown",
   "metadata": {},
   "source": [
    "# Dictionary"
   ]
  },
  {
   "cell_type": "markdown",
   "metadata": {},
   "source": [
    "Dictionary is a general form of a list. It is a collection of *key-value* pairs.\n",
    "\n",
    "- The indices of a list are implicit. For example, a = [1, 2, 3, 4]. The corresponding indices are 0, 1, 2, 3\n",
    "\n",
    "- In a dictionary, each index is replaced with a more general key. Unlike a list, a dictionary in Python must define the correspondence between a key and its value explicitly with a **key: value** pair: 1) Each key is connected to a value; 2) You can access the value associated with that key; 3) A key's value can be a number, a string, a list, or even another dictionary\n",
    "\n"
   ]
  },
  {
   "cell_type": "markdown",
   "metadata": {},
   "source": [
    "## Define a dictionary\n",
    "\n",
    "To differentiate it from a list, a dictionary is enclosed in curly brackets **{ }**.\n",
    "\n",
    "Inside the curly brackets **{ }**, there are a series *key-value* pairs.\n",
    "\n",
    "Syntax:\n",
    "\n",
    "**dictionary_name = {key1:value1, key2:value2, ...}**"
   ]
  },
  {
   "cell_type": "code",
   "execution_count": null,
   "metadata": {},
   "outputs": [],
   "source": [
    "# example\n",
    "empty_dictionary = {}\n",
    "print(empty_dictionary)"
   ]
  },
  {
   "cell_type": "code",
   "execution_count": null,
   "metadata": {},
   "outputs": [],
   "source": [
    "# example\n",
    "my_dict = {0:'A',1:'B',2:'C'}\n",
    "print(my_dict)"
   ]
  },
  {
   "cell_type": "markdown",
   "metadata": {},
   "source": [
    "## Access value in a dictionary\n",
    "\n",
    "Syntax:\n",
    "\n",
    "**dictionary_name[key]**\n",
    "\n",
    "Pay Attention: the key is in [ ]"
   ]
  },
  {
   "cell_type": "code",
   "execution_count": null,
   "metadata": {},
   "outputs": [],
   "source": [
    "# example\n",
    "my_dict = {0:'A',1:'B',2:'C'}\n",
    "print(my_dict[1])"
   ]
  },
  {
   "cell_type": "code",
   "execution_count": null,
   "metadata": {},
   "outputs": [],
   "source": [
    "print(my_dict[5])"
   ]
  },
  {
   "cell_type": "markdown",
   "metadata": {},
   "source": [
    "## Add new key-value pair\n",
    "\n",
    "Syntax:\n",
    "\n",
    "**dictionary_name[new_key] = new_value**"
   ]
  },
  {
   "cell_type": "code",
   "execution_count": null,
   "metadata": {},
   "outputs": [],
   "source": [
    "# example\n",
    "weird = {'car':(2009,2017),'plane':(2015, 2017), 'boat':(1853, 2017)}\n",
    "print(weird['plane'])"
   ]
  },
  {
   "cell_type": "code",
   "execution_count": null,
   "metadata": {},
   "outputs": [],
   "source": [
    "weird['train'] = (1500,1700)\n",
    "print(weird)"
   ]
  },
  {
   "cell_type": "markdown",
   "metadata": {},
   "source": [
    "## Modify value in a dictionary\n",
    "\n",
    "Syntax:\n",
    "\n",
    "**dictionary_name[key] = new_value**"
   ]
  },
  {
   "cell_type": "code",
   "execution_count": null,
   "metadata": {},
   "outputs": [],
   "source": [
    "# example\n",
    "weird = {'car': (2009,2017), 'plane': (2015, 2017), 'boat': (1853, 2017), 'train': (100, 200)}\n",
    "print(weird)\n",
    "weird['car'] = (1920, 1957)\n",
    "print(weird)"
   ]
  },
  {
   "cell_type": "markdown",
   "metadata": {},
   "source": [
    "## Remove key-value pair\n",
    "\n",
    "Syntax:\n",
    "\n",
    "**del dictionary_name[key]**"
   ]
  },
  {
   "cell_type": "code",
   "execution_count": null,
   "metadata": {},
   "outputs": [],
   "source": [
    "# example\n",
    "display = {'color':'green','pixels':(800,600)}\n",
    "print(display)\n",
    "del display['color']\n",
    "print(display)"
   ]
  },
  {
   "cell_type": "markdown",
   "metadata": {},
   "source": [
    "# Sets\n",
    "\n",
    "In Python, a **set** is an **unordered** collection with no duplicate elements. \n",
    "\n",
    "- Example: a set contains elements 20 and 'Apple' is the same as the set contains elements 'Apple' and 20.\n",
    "\n",
    "Sets are indicated by <code>{}</code>."
   ]
  },
  {
   "cell_type": "markdown",
   "metadata": {},
   "source": [
    "## Define a set\n",
    "\n",
    "Method 1: **set_name = set([iterable])**   \n",
    "\n",
    "*Here, [iterable] means optional iterable parameter*\n",
    "\n",
    "Constructs a new empty Set object. If the optional iterable parameter is supplied, updates the set with elements obtained from iteration.\n",
    "\n",
    "Note: When an object is said to be iterable, it means that you can step through (i.e. iterate) the object as a collection."
   ]
  },
  {
   "cell_type": "code",
   "execution_count": null,
   "metadata": {},
   "outputs": [],
   "source": [
    "# example\n",
    "a = set()\n",
    "print(a)\n",
    "print(type(a))"
   ]
  },
  {
   "cell_type": "code",
   "execution_count": null,
   "metadata": {},
   "outputs": [],
   "source": [
    "# example\n",
    "a = set(['John', 'Jane', 'Jack', 'Janice'])\n",
    "print(a)\n",
    "print(type(a))"
   ]
  },
  {
   "cell_type": "markdown",
   "metadata": {},
   "source": [
    "Method 2: **set_name = {element_1, element_2, ...,element_n}**\n",
    "\n",
    "Create a set named set_name. This set contains all these n elements\n",
    "\n",
    "Pay attention: \n",
    "\n",
    "- There is at least one element. \n",
    "\n",
    "- **{}** defines an empty dictionary, not a set\n",
    "\n",
    "- You have to use the constructor **set()** to define an empty set"
   ]
  },
  {
   "cell_type": "code",
   "execution_count": null,
   "metadata": {},
   "outputs": [],
   "source": [
    "# example\n",
    "a = {'John', 'Jane', 'Jack', 'Janice'}\n",
    "print(a)\n",
    "print(type(a))"
   ]
  },
  {
   "cell_type": "markdown",
   "metadata": {},
   "source": [
    "**Question.**  How can Python distinguish sets from dictionaries?"
   ]
  },
  {
   "cell_type": "markdown",
   "metadata": {},
   "source": [
    "**Answer.**\n",
    "<div class=\"voila\">\n",
    "Dictionaries have key:value pairs; sets do not.\n",
    "</div>"
   ]
  },
  {
   "cell_type": "markdown",
   "metadata": {},
   "source": [
    "**We can mix types inside a single set:** "
   ]
  },
  {
   "cell_type": "code",
   "execution_count": null,
   "metadata": {},
   "outputs": [],
   "source": [
    "pies = {'lemon chess', 'cherry', 3.14159}\n",
    "print(pies)"
   ]
  },
  {
   "cell_type": "markdown",
   "metadata": {},
   "source": [
    "**How to determine the number of elements in a set?**\n",
    "\n",
    "- using the <code>len()</code> function"
   ]
  },
  {
   "cell_type": "code",
   "execution_count": null,
   "metadata": {},
   "outputs": [],
   "source": [
    "# example\n",
    "vowels = {'a','e','i','o','u'}\n",
    "print(len(vowels))"
   ]
  },
  {
   "cell_type": "markdown",
   "metadata": {},
   "source": [
    "### Basic operations for a set"
   ]
  },
  {
   "cell_type": "markdown",
   "metadata": {},
   "source": [
    "I. Add operation\n",
    "\n",
    "**s.add(x)**\n",
    "\n",
    "- add element x to set s"
   ]
  },
  {
   "cell_type": "code",
   "execution_count": null,
   "metadata": {},
   "outputs": [],
   "source": [
    "# example\n",
    "A = {1, 2, 3, 4}\n",
    "print(A)\n",
    "A.add(42) \n",
    "print(A)"
   ]
  },
  {
   "cell_type": "markdown",
   "metadata": {},
   "source": [
    "II. Remove operation\n",
    "\n",
    "**s.remove(x)**\n",
    "\n",
    "- remove x from set s"
   ]
  },
  {
   "cell_type": "code",
   "execution_count": null,
   "metadata": {},
   "outputs": [],
   "source": [
    "# example\n",
    "A.remove(2)  \n",
    "print(A)"
   ]
  },
  {
   "cell_type": "markdown",
   "metadata": {},
   "source": [
    "III. Discard operation\n",
    "\n",
    "**s.discard(x)**\n",
    "\n",
    "- Removes x from set s if present\n",
    "\n",
    "- The <code>discard()</code> method removes a specified element but does **not** throw an error if the requested element is not present."
   ]
  },
  {
   "cell_type": "code",
   "execution_count": null,
   "metadata": {},
   "outputs": [],
   "source": [
    "# example\n",
    "A = {1, 2, 3, 4}\n",
    "A.discard(4)\n",
    "print(A)"
   ]
  },
  {
   "cell_type": "markdown",
   "metadata": {},
   "source": [
    "IV. Pop operation\n",
    "\n",
    "**s.pop()**\n",
    "\n",
    "- Remove and return an arbitrary element from s\n",
    "\n",
    "The <code>pop()</code> method returns an element of the set and removes the element from the set.  Since sets have no order, there is no telling which element you will get."
   ]
  },
  {
   "cell_type": "code",
   "execution_count": null,
   "metadata": {},
   "outputs": [],
   "source": [
    "# example\n",
    "pies = {'cherry', 3.14159, 'lemon chess'}\n",
    "print(pies.pop())\n",
    "print(pies)"
   ]
  },
  {
   "cell_type": "markdown",
   "metadata": {},
   "source": [
    "V. Clear operation\n",
    "\n",
    "**s.clear()**\n",
    "\n",
    "- Remove all elements from set s\n"
   ]
  },
  {
   "cell_type": "code",
   "execution_count": null,
   "metadata": {},
   "outputs": [],
   "source": [
    "# example\n",
    "pies.clear()\n",
    "print(pies)"
   ]
  },
  {
   "cell_type": "code",
   "execution_count": null,
   "metadata": {},
   "outputs": [],
   "source": [
    "print(pies.pop())"
   ]
  },
  {
   "cell_type": "markdown",
   "metadata": {},
   "source": [
    "# Testing for membership <a id=\"in\"/>\n",
    "\n",
    "You can check whether a value appears in a set using <code class=\"kw\">in</code>.\n",
    "\n",
    "- x <code class=\"kw\">in</code> A: equal to True if x appears in set A; otherwise, equal to False\n",
    "- x <code class=\"kw\">not in</code> A: equal to True if x does not appear in set A; otherwise, equal to False"
   ]
  },
  {
   "cell_type": "code",
   "execution_count": null,
   "metadata": {},
   "outputs": [],
   "source": [
    "A = {1, 2, 3, 4}\n",
    "x = 3\n",
    "y = 42"
   ]
  },
  {
   "cell_type": "code",
   "execution_count": null,
   "metadata": {},
   "outputs": [],
   "source": [
    "if (x in A):\n",
    "  print('x is in A!')\n",
    "else:\n",
    "  print('x is not in A!')"
   ]
  },
  {
   "cell_type": "code",
   "execution_count": null,
   "metadata": {},
   "outputs": [],
   "source": [
    "if (y in A):\n",
    "  print('y is in A!')\n",
    "else:\n",
    "  print('y is not in A!')"
   ]
  },
  {
   "cell_type": "markdown",
   "metadata": {},
   "source": [
    "# Iterating over sets <a id=\"iterating\"/>\n",
    "\n",
    "We can iterate over sets in the same way as we do lists, tuples."
   ]
  },
  {
   "cell_type": "code",
   "execution_count": null,
   "metadata": {},
   "outputs": [],
   "source": [
    "pies = {'lemon chess', 'cherry', 3.14159, 'possum'}\n",
    "for p in pies:\n",
    "    print(p)"
   ]
  },
  {
   "cell_type": "markdown",
   "metadata": {},
   "source": [
    "# Set comparison <a id=\"comparison\"/>\n",
    "\n",
    "Comparison of Python sets behaves like it does in mathematics.  \n",
    "\n",
    "If $A$ and $B$ are sets, then\n",
    "* <code>A &lt; B</code> is true if and only if every element of $A$ is in $B$, but $A \\neq B$ (i.e., $A$ is a proper subset of $B$, or $A$ &#8842; $B$)\n",
    "* <code>A <= B</code> is true if and only if every element of $A$ is in $B$ (i.e., $A$ is a subset of $B$, or $A$ &sube; $B$)\n",
    "* <code>A == B</code> is true if and only if $A$ = $B$\n",
    "* <code>A >= B</code> is true if and only if every element of $B$ is in $A$ (i.e., $A$ is a superset of $B$, or $A$ &supe; $B$)\n",
    "* <code>A &gt; B</code> is true if and only if every element of $B$ is in $A$, but $A \\neq B$ (i.e., $A$ is a proper superset of $B$, or $A$ &#8843; $B$)"
   ]
  },
  {
   "cell_type": "code",
   "execution_count": null,
   "metadata": {},
   "outputs": [],
   "source": [
    "A = {1, 2, 3, 4, 5, 6}\n",
    "B = {1, 2, 3}\n",
    "C = {1, 2, 3}"
   ]
  },
  {
   "cell_type": "code",
   "execution_count": null,
   "metadata": {},
   "outputs": [],
   "source": [
    "print('A < B is', A < B)"
   ]
  },
  {
   "cell_type": "code",
   "execution_count": null,
   "metadata": {},
   "outputs": [],
   "source": [
    "print('A > B is', A > B)"
   ]
  },
  {
   "cell_type": "code",
   "execution_count": null,
   "metadata": {},
   "outputs": [],
   "source": [
    "print('A == B is', A == B)"
   ]
  },
  {
   "cell_type": "code",
   "execution_count": null,
   "metadata": {},
   "outputs": [],
   "source": [
    "print('B <= A is', B <= A)"
   ]
  },
  {
   "cell_type": "code",
   "execution_count": null,
   "metadata": {},
   "outputs": [],
   "source": [
    "print('B < C is', B < C)"
   ]
  },
  {
   "cell_type": "code",
   "execution_count": null,
   "metadata": {},
   "outputs": [],
   "source": [
    "print('B <= C is', B <= C)"
   ]
  },
  {
   "cell_type": "code",
   "execution_count": null,
   "metadata": {},
   "outputs": [],
   "source": [
    "print('B == C is', B == C)"
   ]
  },
  {
   "cell_type": "markdown",
   "metadata": {},
   "source": [
    "## Basic operations between sets"
   ]
  },
  {
   "cell_type": "markdown",
   "metadata": {},
   "source": [
    "I. Union operation\n",
    "\n",
    "Syntax: **s.union(t)**  or **s|t**\n",
    "\n",
    "- generate a new set with elements from both s and t"
   ]
  },
  {
   "cell_type": "code",
   "execution_count": null,
   "metadata": {},
   "outputs": [],
   "source": [
    "# example\n",
    "A = {1, 2, 3}\n",
    "B = {1, 4, 5, 6}\n",
    "D = {1, 2, 4}"
   ]
  },
  {
   "cell_type": "code",
   "execution_count": null,
   "metadata": {},
   "outputs": [],
   "source": [
    "C = A.union(B)\n",
    "print(C)"
   ]
  },
  {
   "cell_type": "code",
   "execution_count": null,
   "metadata": {},
   "outputs": [],
   "source": [
    "C = A|D\n",
    "print(C)"
   ]
  },
  {
   "cell_type": "markdown",
   "metadata": {},
   "source": [
    "II. Intersection operation\n",
    "\n",
    "Syntax: **s.intersection(t)**  or **s&t**\n",
    "\n",
    "- generate a new set with elements common to s and t"
   ]
  },
  {
   "cell_type": "code",
   "execution_count": null,
   "metadata": {},
   "outputs": [],
   "source": [
    "# example\n",
    "A = {1, 2, 3}\n",
    "B = {1, 4, 5, 6}\n",
    "D = {1, 2, 4}\n",
    "C = B.intersection(A)\n",
    "print(C)"
   ]
  },
  {
   "cell_type": "code",
   "execution_count": null,
   "metadata": {},
   "outputs": [],
   "source": [
    "E = B&A\n",
    "print(E)\n",
    "F = A&B\n",
    "print(F)"
   ]
  },
  {
   "cell_type": "markdown",
   "metadata": {},
   "source": [
    "III. Difference operation\n",
    "\n",
    "Syntax: **s.difference(t)**  or **s - t**\n",
    "\n",
    "- generate a new set with elements in s but not in t"
   ]
  },
  {
   "cell_type": "code",
   "execution_count": null,
   "metadata": {},
   "outputs": [],
   "source": [
    "# example\n",
    "A = {1, 2, 3, 4}\n",
    "B = {3, 4, 5, 6}\n",
    "print('A - B = ', A.difference(B))\n",
    "print('A - B = ', A - B)"
   ]
  },
  {
   "cell_type": "code",
   "execution_count": null,
   "metadata": {},
   "outputs": [],
   "source": [
    "print('B - A = ', B.difference(A))\n",
    "print('B - A = ', B - A)"
   ]
  },
  {
   "cell_type": "markdown",
   "metadata": {},
   "source": [
    "IV. Symmetric difference operation\n",
    "\n",
    "Syntax: **s.symmetric_difference(t)**  or  **s^t**\n",
    "\n",
    "- generate a new set with elements in either s or t but not both"
   ]
  },
  {
   "cell_type": "code",
   "execution_count": null,
   "metadata": {},
   "outputs": [],
   "source": [
    "# example\n",
    "A = {1, 2, 3, 4}\n",
    "B = {3, 4, 5, 6}\n",
    "print('symmetric difference = ', A.symmetric_difference(B))"
   ]
  },
  {
   "cell_type": "code",
   "execution_count": null,
   "metadata": {},
   "outputs": [],
   "source": [
    "print('symmetric difference = ', B^A)"
   ]
  },
  {
   "cell_type": "markdown",
   "metadata": {},
   "source": [
    "## Transformation between a list and a set"
   ]
  },
  {
   "cell_type": "code",
   "execution_count": 8,
   "metadata": {},
   "outputs": [
    {
     "name": "stdout",
     "output_type": "stream",
     "text": [
      "{1, 2, 3, 4}\n"
     ]
    }
   ],
   "source": [
    "# from a list to a set\n",
    "a = [1,2,3,4]\n",
    "b = set(a)\n",
    "print(b)"
   ]
  },
  {
   "cell_type": "code",
   "execution_count": null,
   "metadata": {},
   "outputs": [],
   "source": [
    "# from a set to a list\n",
    "a = {1,2,3,4}\n",
    "b = list(a)\n",
    "print(b)"
   ]
  },
  {
   "cell_type": "code",
   "execution_count": null,
   "metadata": {},
   "outputs": [],
   "source": []
  },
  {
   "cell_type": "markdown",
   "metadata": {},
   "source": [
    "# Class\n",
    "\n",
    "*Class* is an important concept in OOP (object-oriented programming) language. In OOP, we write *classes* that represent real-world things, and create *objects* based on these *classes*. (https://www.hackerearth.com/practice/python/object-oriented-programming/classes-and-objects-i/tutorial/)\n",
    "\n",
    "**What is a class?**\n",
    "\n",
    "A class is a code template for **creating objects**. Objects have variables (attributes) and behaviors (methods) associated with them. \n",
    "\n",
    "- Example 1: We define a Dog *class* to represent dogs. Dogs have general attributes (e.g. name and age) and behaviors (e.g. sit, jump, and roll over)\n",
    "- Example 2: We define a Battery *class* to represent batteries. Batteries have general attributes (e.g. manufacturer and maximum capacity) and behaviors (e.g. recharge and discharge)\n"
   ]
  },
  {
   "cell_type": "markdown",
   "metadata": {},
   "source": [
    "**How to define a class?**"
   ]
  },
  {
   "cell_type": "code",
   "execution_count": null,
   "metadata": {},
   "outputs": [],
   "source": [
    "# syntax of class\n",
    "class Class_name(parent_class):\n",
    "    \n",
    "    # A must have method: the constructor method\n",
    "    def __init__(self,args):\n",
    "        code block to initialize a new object\n",
    "    \n",
    "    def method_name(self,args):\n",
    "        code block of method\n",
    "        \n",
    "    def method_name(self,args):\n",
    "        code block of method\n",
    "    ..."
   ]
  },
  {
   "cell_type": "markdown",
   "metadata": {},
   "source": [
    "1. Class must be defined before using it. (like function)\n",
    "\n",
    "2. Everytime we define a new class, we define a new data type. \n",
    "\n",
    "3. The first letter of the **Class_name** is often capitalized. This is a tradition in defining classes.\n",
    "\n",
    "4. *parent_class* indicates the partent class of the defined class. Parent class is the class being inherited from. Child class is the class that inherits from another class (https://www.w3schools.com/python/python_inheritance.asp ). For example, we define a Pet class and a Dog class inherited from Pet class. Here, the Pet class is the parent class. The Dog class is the child class. The parent class is more general than the child class. This is, **the child class objects are the subset of the parent class objects.** \n",
    "\n",
    "5. If *parent_class* is omitted, this class implicitly inherits from the **object** super class. All objects in Python inherit from **object** super class.\n",
    "\n",
    "6. Do not forget the colon and the indentation."
   ]
  },
  {
   "cell_type": "markdown",
   "metadata": {},
   "source": [
    "## Constructor method\n",
    "\n",
    "    def __init__(self,args):\n",
    "        code block to initialize (attributes of) a new object\n",
    "        \n",
    "1. Python runs automatically the corresponding constructor method whenever we create a new object (instance) using a class.\n",
    "\n",
    "2. The format of the methods in class is similar to that of functions\n",
    "\n",
    "3. The name of constructor method is special and fixed. It has two heading underscores and two trailing underscores, which indicate this method is for special usage.\n",
    "\n",
    "4. The **self** argument is required in the method definition, and it must come first before the other arguments. **Self is passed automatically, we don't need to pass it. We only provide value for other arguments**. **self here is a reference to the object created by this class.** (Why??? The methods in a class is same for all objects created from this class, if two objects use a method at the same time, how can Python distinguish them? Here we pass the object, i.e. self, to the methods)\n",
    "\n",
    "5. The **args** are the inputs when we create an object using a class. **These arguments are often assigned to the attributes of this created object**."
   ]
  },
  {
   "cell_type": "markdown",
   "metadata": {},
   "source": [
    "## Other methods in a class\n",
    "\n",
    "    def method_name(self,augs):\n",
    "        code block of method\n",
    "        \n",
    "1. Similar to functions\n",
    "\n",
    "2. Need **self** argument as in the constructor method\n",
    "\n",
    "3. Each method is a behavior of the objects in this class. For example, you can define three methods (sit, jump, and roll over) for objects in Dog class; or define two methods (recharge and discharge) for objects in Battery class."
   ]
  },
  {
   "cell_type": "markdown",
   "metadata": {},
   "source": [
    "**Example:**"
   ]
  },
  {
   "cell_type": "code",
   "execution_count": null,
   "metadata": {},
   "outputs": [],
   "source": [
    "class Dog():\n",
    "    def __init__(self,name,age):\n",
    "        # define two variables (attributes)\n",
    "        self.name = name\n",
    "        self.age = age\n",
    "        \n",
    "    # define 1st behavior (method)\n",
    "    def sit(self):\n",
    "        print(self.name,'is now sitting')\n",
    "        \n",
    "    # define 2nd behavior (method)\n",
    "    def jump(self):\n",
    "        print(self.name,'is now jumping')\n",
    "    \n",
    "    # define 3rd behavior (method)\n",
    "    def birthday(self):\n",
    "        self.age += 1"
   ]
  },
  {
   "cell_type": "markdown",
   "metadata": {},
   "source": [
    "Attention: Any attribute prefixed with **self** is available to every method in the class. "
   ]
  },
  {
   "cell_type": "markdown",
   "metadata": {},
   "source": [
    "## Creating an object from a class (i.e. Making an instance from a class)\n",
    "\n",
    "**Syntax:**\n",
    "\n",
    "object_name = Class_name(args)\n",
    "\n",
    "**This process is called instantiation**"
   ]
  },
  {
   "cell_type": "code",
   "execution_count": null,
   "metadata": {},
   "outputs": [],
   "source": [
    "# for example\n",
    "my_dog = Dog('willie',6)\n",
    "# Here 'willie' and 6 are passed to the constructor method\n",
    "# they are used to initialize two variables (attributes), i.e. self.name and self.age"
   ]
  },
  {
   "cell_type": "markdown",
   "metadata": {},
   "source": [
    "## Accessing an object's attributes\n",
    "\n",
    "**Syntax:**\n",
    "\n",
    "object_name.attribute_name\n",
    "\n",
    "**Attention: no () after the attribute name**"
   ]
  },
  {
   "cell_type": "code",
   "execution_count": null,
   "metadata": {},
   "outputs": [],
   "source": [
    "print(my_dog.name)\n",
    "print(my_dog.age)"
   ]
  },
  {
   "cell_type": "markdown",
   "metadata": {},
   "source": [
    "## Call an instance's method\n",
    "\n",
    "**Syntax:**\n",
    "\n",
    "object_name.method_name(args)\n",
    "\n",
    "**Attention: have () after the method name**"
   ]
  },
  {
   "cell_type": "code",
   "execution_count": null,
   "metadata": {},
   "outputs": [],
   "source": [
    "# for example\n",
    "my_dog.sit()"
   ]
  },
  {
   "cell_type": "code",
   "execution_count": null,
   "metadata": {},
   "outputs": [],
   "source": [
    "my_dog.birthday()\n",
    "print(my_dog.age)"
   ]
  },
  {
   "cell_type": "markdown",
   "metadata": {},
   "source": [
    "**How to make an attribute not visible outside the class?** \n",
    "\n",
    "Add two heading underscores before the attribute name (the attribue is now PRIVATE)."
   ]
  },
  {
   "cell_type": "code",
   "execution_count": null,
   "metadata": {},
   "outputs": [],
   "source": [
    "class Dog():\n",
    "    def __init__(self,name,age):\n",
    "        self.__name = name\n",
    "        self.__age = age\n",
    "        \n",
    "    def sit(self):\n",
    "        print(self.__name,'is now sitting')\n",
    "        \n",
    "    def jump(self):\n",
    "        print(self.__name,'is now jumping')\n",
    "    \n",
    "    def birthday(self):\n",
    "        self.__age += 1\n",
    "        \n",
    "# for example\n",
    "my_dog = Dog('willie',6)\n",
    "my_dog.jump()\n",
    "\n",
    "print(my_dog.__name)\n",
    "print(my_dog.__age)"
   ]
  },
  {
   "cell_type": "markdown",
   "metadata": {},
   "source": [
    "**Practice:**\n",
    "\n",
    "Define a class named Battery:\n",
    "\n",
    "This class has two attributes: *max_charge* and *charge_remaining*. The battery is full at the beginning.\n",
    "\n",
    "This class has four behaviors: \n",
    "\n",
    "1) *recharge*: increase the electric quantity by a \"number\" if not full\n",
    "\n",
    "2) *discharge*: decrease the electric quantity by a \"number\" if not empty\n",
    "\n",
    "3) *get_max_charge*: return the value of *max_charge*\n",
    "\n",
    "4) *get_charge_remaining*: return the value of *charge_remaining*"
   ]
  },
  {
   "cell_type": "code",
   "execution_count": null,
   "metadata": {},
   "outputs": [],
   "source": []
  }
 ],
 "metadata": {
  "kernelspec": {
   "display_name": "Python 3",
   "language": "python",
   "name": "python3"
  },
  "language_info": {
   "codemirror_mode": {
    "name": "ipython",
    "version": 3
   },
   "file_extension": ".py",
   "mimetype": "text/x-python",
   "name": "python",
   "nbconvert_exporter": "python",
   "pygments_lexer": "ipython3",
   "version": "3.8.5"
  }
 },
 "nbformat": 4,
 "nbformat_minor": 2
}
