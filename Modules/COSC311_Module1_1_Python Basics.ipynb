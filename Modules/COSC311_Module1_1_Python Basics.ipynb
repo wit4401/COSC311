{
 "cells": [
  {
   "cell_type": "markdown",
   "metadata": {},
   "source": [
    "# COSC 311: Introduction to Data Visualization and Interpretation"
   ]
  },
  {
   "cell_type": "markdown",
   "metadata": {},
   "source": [
    "Instructor: Dr. Shuangquan (Peter) Wang\n",
    "\n",
    "Email: spwang@salisbury.edu\n",
    "\n",
    "Department of Computer Science, Salisbury University\n"
   ]
  },
  {
   "cell_type": "markdown",
   "metadata": {},
   "source": [
    "# Module 1_Python Programming Language Basics\n",
    "\n",
    "## 1. Python Basics\n",
    "\n"
   ]
  },
  {
   "cell_type": "markdown",
   "metadata": {},
   "source": [
    "**Contents of this note refer to 1) the teaching materials at Department of Computer Science, William & Mary; 2) the textbook \"Python crash course - a hands-on project-based introduction to programming\"; 3) Python toturial: https://docs.python.org/3/tutorial/**"
   ]
  },
  {
   "cell_type": "markdown",
   "metadata": {},
   "source": [
    "**<font color=red>All rights reserved. Dissemination or sale of any part of this note is NOT permitted.</font>**"
   ]
  },
  {
   "cell_type": "markdown",
   "metadata": {},
   "source": [
    "## Read textbook\n",
    "\n",
    "- Textbook \"Data Science from Scratch\": Chapter 2\n",
    "- \"Python Crash Course\": Chapters 1-5"
   ]
  },
  {
   "cell_type": "markdown",
   "metadata": {},
   "source": [
    "**First, Python can do arithmetic computations!**"
   ]
  },
  {
   "cell_type": "markdown",
   "metadata": {},
   "source": [
    "1. Addition (+)"
   ]
  },
  {
   "cell_type": "code",
   "execution_count": 1,
   "metadata": {},
   "outputs": [
    {
     "data": {
      "text/plain": [
       "3"
      ]
     },
     "execution_count": 1,
     "metadata": {},
     "output_type": "execute_result"
    }
   ],
   "source": [
    "# Note: Comments in Python start with the hash character (or pound sign), #, \n",
    "# and extend to the end of the physical line.\n",
    "\n",
    "1 + 2"
   ]
  },
  {
   "cell_type": "markdown",
   "metadata": {},
   "source": [
    "**Note:**\n",
    "- To run a code cell, put the cursor in the cell and press **shift+Enter** or the **Play** button in the tool bar\n",
    "- Closing the tab a notebook is running on just takes it out of your view. It doesn't stop the process running the notebook. You should go to **File --> Close and Halt**. Too many open files will cause your notebook server to crash."
   ]
  },
  {
   "cell_type": "markdown",
   "metadata": {},
   "source": [
    "**Practice:**\n",
    "Calculate the sum of integers from 1 to 5"
   ]
  },
  {
   "cell_type": "code",
   "execution_count": 3,
   "metadata": {},
   "outputs": [
    {
     "name": "stdout",
     "output_type": "stream",
     "text": [
      "15\n"
     ]
    }
   ],
   "source": [
    "total=0\n",
    "for i in range(1,6):\n",
    "    total+=i\n",
    "print(total)"
   ]
  },
  {
   "cell_type": "markdown",
   "metadata": {},
   "source": [
    "Tips: how to run Python command from terminal (command line)?\n",
    "\n",
    "- Open the terminal window (e.g. Run --> cmd for Windows)\n",
    "- Type \"python\" and enter\n",
    "- Input Python command after the primary prompt, >>>, and execute line by line"
   ]
  },
  {
   "cell_type": "markdown",
   "metadata": {},
   "source": [
    "2. Subtraction (-)"
   ]
  },
  {
   "cell_type": "code",
   "execution_count": 4,
   "metadata": {},
   "outputs": [
    {
     "data": {
      "text/plain": [
       "2"
      ]
     },
     "execution_count": 4,
     "metadata": {},
     "output_type": "execute_result"
    }
   ],
   "source": [
    "# Example:\n",
    "\n",
    "9 - 7"
   ]
  },
  {
   "cell_type": "markdown",
   "metadata": {},
   "source": [
    "3. Multiplication (*)"
   ]
  },
  {
   "cell_type": "code",
   "execution_count": 5,
   "metadata": {},
   "outputs": [
    {
     "data": {
      "text/plain": [
       "72"
      ]
     },
     "execution_count": 5,
     "metadata": {},
     "output_type": "execute_result"
    }
   ],
   "source": [
    "# Example:\n",
    "\n",
    "8 * 9"
   ]
  },
  {
   "cell_type": "markdown",
   "metadata": {},
   "source": [
    "**Arithmetic operator precedence:**\n",
    "\n",
    "Google \"Python operator precedence\" or open https://docs.python.org/3.7/reference/expressions.html#operator-precedence"
   ]
  },
  {
   "cell_type": "markdown",
   "metadata": {},
   "source": [
    "4. Exponentiation (**)"
   ]
  },
  {
   "cell_type": "code",
   "execution_count": 6,
   "metadata": {},
   "outputs": [
    {
     "data": {
      "text/plain": [
       "25"
      ]
     },
     "execution_count": 6,
     "metadata": {},
     "output_type": "execute_result"
    }
   ],
   "source": [
    "# Example: calculate 5 squared\n",
    "\n",
    "5 ** 2"
   ]
  },
  {
   "cell_type": "markdown",
   "metadata": {},
   "source": [
    "**Integer VS Floating point number**\n",
    "\n",
    "The integer numbers (e.g. 2, 4, 20) have type *int*. \n",
    "- Python's integer values have unlimited precision. They can be arbitrarily long.\n",
    "\n",
    "The ones with a fractional part (e.g. 5.0, 1.6) are floating point numbers. They have type *float*"
   ]
  },
  {
   "cell_type": "markdown",
   "metadata": {},
   "source": [
    "**Note:**\n",
    "\n",
    "When Python performs arithmetic with an integer and a floating point number, it first converts the integer to floating point number."
   ]
  },
  {
   "cell_type": "markdown",
   "metadata": {},
   "source": [
    "How to transform between an integer and a floating point number?\n",
    "\n",
    "A. From *float* to *int*: \n",
    "\n",
    "- use function *int()*\n",
    "- it truncates the fractional part (truncates towards zero)"
   ]
  },
  {
   "cell_type": "code",
   "execution_count": 7,
   "metadata": {},
   "outputs": [
    {
     "data": {
      "text/plain": [
       "2"
      ]
     },
     "execution_count": 7,
     "metadata": {},
     "output_type": "execute_result"
    }
   ],
   "source": [
    "# Example: \n",
    "int(2.5)"
   ]
  },
  {
   "cell_type": "markdown",
   "metadata": {},
   "source": [
    "B. From *int* to *float*: \n",
    "\n",
    "- use function *float()*\n",
    "- add a decimal point and a trailing 0"
   ]
  },
  {
   "cell_type": "code",
   "execution_count": 2,
   "metadata": {},
   "outputs": [
    {
     "data": {
      "text/plain": [
       "3.0"
      ]
     },
     "execution_count": 2,
     "metadata": {},
     "output_type": "execute_result"
    }
   ],
   "source": [
    "float(3)"
   ]
  },
  {
   "cell_type": "markdown",
   "metadata": {},
   "source": [
    "**What are the *int* and *float* functions in Python?**\n",
    "\n",
    "- Google \"python built-in functions\"\n",
    "- Open https://docs.python.org/3/library/functions.html\n",
    "- Try a function, e.g. type()"
   ]
  },
  {
   "cell_type": "code",
   "execution_count": 8,
   "metadata": {},
   "outputs": [
    {
     "data": {
      "text/plain": [
       "float"
      ]
     },
     "execution_count": 8,
     "metadata": {},
     "output_type": "execute_result"
    }
   ],
   "source": [
    "type(2.0)"
   ]
  },
  {
   "cell_type": "markdown",
   "metadata": {},
   "source": [
    "5. Divison\n",
    "\n",
    "1) True division: use the slash (/) character. This classic division always returns a float"
   ]
  },
  {
   "cell_type": "code",
   "execution_count": 9,
   "metadata": {},
   "outputs": [
    {
     "data": {
      "text/plain": [
       "4.666666666666667"
      ]
     },
     "execution_count": 9,
     "metadata": {},
     "output_type": "execute_result"
    }
   ],
   "source": [
    "# Example: \n",
    "14 / 3"
   ]
  },
  {
   "cell_type": "markdown",
   "metadata": {},
   "source": [
    "2) Floor division: use two slashes (//) . \n",
    "\n",
    "- It gets an integer result and discards the fractional part\n",
    "- It rounds the quotient **down** to the nearest integer"
   ]
  },
  {
   "cell_type": "code",
   "execution_count": 10,
   "metadata": {},
   "outputs": [
    {
     "data": {
      "text/plain": [
       "4"
      ]
     },
     "execution_count": 10,
     "metadata": {},
     "output_type": "execute_result"
    }
   ],
   "source": [
    "14 // 3"
   ]
  },
  {
   "cell_type": "markdown",
   "metadata": {},
   "source": [
    "3) Remainder: use modulo character (%). It returns the remainder of the division"
   ]
  },
  {
   "cell_type": "code",
   "execution_count": 11,
   "metadata": {},
   "outputs": [
    {
     "data": {
      "text/plain": [
       "2"
      ]
     },
     "execution_count": 11,
     "metadata": {},
     "output_type": "execute_result"
    }
   ],
   "source": [
    "14 % 3"
   ]
  },
  {
   "cell_type": "markdown",
   "metadata": {},
   "source": [
    "## Variables\n",
    "\n",
    "The following contents partly refer to:\n",
    "\n",
    "- https://www.guru99.com/variables-in-python.html\n",
    "- https://www.w3schools.com/python/python_variables.asp\n",
    "- https://www.tutorialspoint.com/python/python_variable_types.htm"
   ]
  },
  {
   "cell_type": "markdown",
   "metadata": {},
   "source": [
    "A Python variable is a reserved memory location to store values. This means that when you create a variable you reserve some space in memory.\n",
    "\n",
    "Every value in Python has a datatype. Based on the data type of a variable, the interpreter allocates memory and decides what can be stored in the reserved memory. \n",
    "\n",
    "The data types in Python include integers (int), floating point numbers (float), strings (str), lists (list), dictionaries (dict), tuples (tup), sets (set), booleans (bool), etc."
   ]
  },
  {
   "cell_type": "markdown",
   "metadata": {},
   "source": [
    "**A. Declare a variable:**\n",
    "\n",
    "variable_name = object\n",
    "\n",
    "- The equal sign (=) is called the assignment operator. It is used to assgin an object to the variable on the left side\n",
    "- The object may be a value, variable, math expression, etc."
   ]
  },
  {
   "cell_type": "code",
   "execution_count": 12,
   "metadata": {},
   "outputs": [
    {
     "name": "stdout",
     "output_type": "stream",
     "text": [
      "10\n"
     ]
    }
   ],
   "source": [
    "# Example \n",
    "r = 10\n",
    "print(r)"
   ]
  },
  {
   "cell_type": "code",
   "execution_count": 13,
   "metadata": {},
   "outputs": [
    {
     "name": "stdout",
     "output_type": "stream",
     "text": [
      "3.14\n"
     ]
    }
   ],
   "source": [
    "pi = 3.14\n",
    "print(pi)"
   ]
  },
  {
   "cell_type": "code",
   "execution_count": 14,
   "metadata": {},
   "outputs": [
    {
     "name": "stdout",
     "output_type": "stream",
     "text": [
      "314.0\n"
     ]
    }
   ],
   "source": [
    "area = (r ** 2) * pi\n",
    "print(area)"
   ]
  },
  {
   "cell_type": "markdown",
   "metadata": {},
   "source": [
    "How to define a (variable) name in Python?\n",
    "\n",
    "- Names in Python can be any sequence of characters drawn from letters, digits, and the underscore ( \\_ ) character.\n",
    "- Names may not start with a digit\n",
    "- You cannot use any of Python's keword which are elements of the Python language that have predefined meanings (Google \"Python keyword\"). Otherwise, it causes syntax error.\n",
    "- Names are case-sensitive\n",
    "- Use descriptive names is important when you are writing programs. This makes your code more accessible to others. (e.g. pi = 3.14 is better than aaa = 3.14)"
   ]
  },
  {
   "cell_type": "markdown",
   "metadata": {},
   "source": [
    "B. Type of a variable\n",
    "\n",
    "- Variables need NOT to be declared with any particular type\n",
    "- The type of a variable can be changed through assigning a new value"
   ]
  },
  {
   "cell_type": "code",
   "execution_count": 15,
   "metadata": {
    "scrolled": false
   },
   "outputs": [
    {
     "name": "stdout",
     "output_type": "stream",
     "text": [
      "<class 'int'>\n",
      "<class 'float'>\n",
      "<class 'str'>\n"
     ]
    }
   ],
   "source": [
    "# Example:\n",
    "\n",
    "a = 15      # a is of type int\n",
    "print(type(a))\n",
    "a = 15.0    # a is of type float\n",
    "print(type(a))\n",
    "a = \"name\"  # a is now of type str\n",
    "print(type(a))\n"
   ]
  },
  {
   "cell_type": "code",
   "execution_count": 16,
   "metadata": {},
   "outputs": [
    {
     "name": "stdout",
     "output_type": "stream",
     "text": [
      "314.1592653589793\n"
     ]
    }
   ],
   "source": [
    "# Import the math module into the namespace. \n",
    "# This makes all the functions and constants in the math module available in this program.\n",
    "import math\n",
    "\n",
    "r = 10\n",
    "\n",
    "area = (r**2) * math.pi   # math.pi is the value 3.1415926....\n",
    "\n",
    "print(area)"
   ]
  },
  {
   "cell_type": "markdown",
   "metadata": {},
   "source": [
    "Note:\n",
    "\n",
    "Modules in Python are simply Python code that developers have written and organized, and that you can bring into your Python namespace to use."
   ]
  },
  {
   "cell_type": "markdown",
   "metadata": {},
   "source": [
    "## Augmented assignment statements\n",
    "\n",
    "- https://docs.python.org/3/reference/simple_stmts.html#grammar-token-augmented-assignment-stmt\n",
    "\n",
    "Augmented assignment is the combination, in a single statement, of a binary operation and an assignment statement, such as \"+=\", \"-=\", \"\\*=\", \"/=\", \"//=\", \"%=\", and \"**=\".\n",
    "\n",
    "a += b means a = a + b\n",
    "\n",
    "a -= b means a = a - b\n",
    "\n",
    "......"
   ]
  },
  {
   "cell_type": "markdown",
   "metadata": {},
   "source": [
    "## Casting\n",
    "\n",
    "We've seen that casting a `float` to an `int` truncates the value, and casting an `int` to a `float` adds a decimal point and a trailing 0. \n",
    "\n",
    "You can cast `string` representations of numbers to `floats` and `ints` as well. "
   ]
  },
  {
   "cell_type": "code",
   "execution_count": 17,
   "metadata": {},
   "outputs": [
    {
     "name": "stdout",
     "output_type": "stream",
     "text": [
      "150\n"
     ]
    }
   ],
   "source": [
    "# Example:\n",
    "a = '150'\n",
    "b = int(a)\n",
    "print(b)"
   ]
  },
  {
   "cell_type": "code",
   "execution_count": 18,
   "metadata": {},
   "outputs": [
    {
     "name": "stdout",
     "output_type": "stream",
     "text": [
      "3.14\n"
     ]
    }
   ],
   "source": [
    "# Example:\n",
    "a = \"3.14\"\n",
    "b = float(a)\n",
    "print(b)"
   ]
  },
  {
   "cell_type": "markdown",
   "metadata": {},
   "source": [
    "### input function\n",
    "\n",
    "Open https://docs.python.org/3/library/functions.html#input"
   ]
  },
  {
   "cell_type": "code",
   "execution_count": 1,
   "metadata": {},
   "outputs": [],
   "source": [
    "# How do we fix this?\n",
    "length = input('Enter length of square side: ')\n",
    "area = int(length)**2"
   ]
  },
  {
   "cell_type": "markdown",
   "metadata": {},
   "source": [
    "## String concatenation"
   ]
  },
  {
   "cell_type": "code",
   "execution_count": 22,
   "metadata": {},
   "outputs": [
    {
     "name": "stdout",
     "output_type": "stream",
     "text": [
      "string concatenation\n"
     ]
    }
   ],
   "source": [
    "a = 'string' + ' ' + 'concatenation'\n",
    "print(a)"
   ]
  },
  {
   "cell_type": "markdown",
   "metadata": {},
   "source": [
    "## Print string and numbers together"
   ]
  },
  {
   "cell_type": "code",
   "execution_count": 23,
   "metadata": {},
   "outputs": [
    {
     "name": "stdout",
     "output_type": "stream",
     "text": [
      "This word has 5 letters\n"
     ]
    }
   ],
   "source": [
    "# First method:\n",
    "a = 5\n",
    "print('This word has ' + str(a) + ' letters')"
   ]
  },
  {
   "cell_type": "code",
   "execution_count": 24,
   "metadata": {},
   "outputs": [
    {
     "name": "stdout",
     "output_type": "stream",
     "text": [
      "This word has 5 letters\n"
     ]
    }
   ],
   "source": [
    "# Second method:\n",
    "a = 5\n",
    "print('This word has',a,'letters')"
   ]
  },
  {
   "cell_type": "code",
   "execution_count": null,
   "metadata": {},
   "outputs": [],
   "source": []
  },
  {
   "cell_type": "markdown",
   "metadata": {},
   "source": [
    "### Boolean Data Type\n",
    "\n",
    "-- https://problemsolvingwithpython.com/04-Data-Types-and-Variables/04.02-Boolean-Data-Type/\n",
    "\n",
    "The boolean data type is either **True** or **False**. \n",
    "\n",
    "**True** and **False** are keywords in Python.\n"
   ]
  },
  {
   "cell_type": "markdown",
   "metadata": {},
   "source": [
    "What's the difference between these variables?"
   ]
  },
  {
   "cell_type": "code",
   "execution_count": 25,
   "metadata": {},
   "outputs": [
    {
     "name": "stdout",
     "output_type": "stream",
     "text": [
      "<class 'str'>\n",
      "<class 'bool'>\n"
     ]
    }
   ],
   "source": [
    "a = 'True'\n",
    "print(type(a))\n",
    "b = True\n",
    "print(type(b))"
   ]
  },
  {
   "cell_type": "markdown",
   "metadata": {},
   "source": [
    "## Conditional Test\n",
    "\n",
    "Conditional test is an expression that can be evaluated as **True** or **False**.\n",
    "\n",
    "**Examples of conditional tests:**"
   ]
  },
  {
   "cell_type": "code",
   "execution_count": 26,
   "metadata": {},
   "outputs": [
    {
     "name": "stdout",
     "output_type": "stream",
     "text": [
      "True\n",
      "True\n",
      "True\n",
      "True\n"
     ]
    }
   ],
   "source": [
    "# 1. Comparison (<, <=, >, >=, ==, !=)\n",
    "a = 9\n",
    "print(a > 5)\n",
    "print(a == 9)\n",
    "print(a != 7)\n",
    "print(a <= 10)"
   ]
  },
  {
   "cell_type": "code",
   "execution_count": 27,
   "metadata": {},
   "outputs": [
    {
     "name": "stdout",
     "output_type": "stream",
     "text": [
      "True\n",
      "False\n"
     ]
    }
   ],
   "source": [
    "# 2. Chain comparison\n",
    "print(1 < 4 <= 9)\n",
    "print(1 > 9 > 7)"
   ]
  },
  {
   "cell_type": "code",
   "execution_count": 28,
   "metadata": {},
   "outputs": [
    {
     "name": "stdout",
     "output_type": "stream",
     "text": [
      "True\n",
      "True\n"
     ]
    }
   ],
   "source": [
    "# 3. Membership operation (in, not in)\n",
    "print(3 in [1,2,3])\n",
    "print(5 not in [1,4,7])"
   ]
  },
  {
   "cell_type": "code",
   "execution_count": 30,
   "metadata": {},
   "outputs": [
    {
     "name": "stdout",
     "output_type": "stream",
     "text": [
      "True\n"
     ]
    }
   ],
   "source": [
    "# 4. Identity operation (is, \"a is b\" means a and b point to the same object)\n",
    "car = 'BMW'\n",
    "CAR = car\n",
    "print(car is CAR)"
   ]
  },
  {
   "cell_type": "code",
   "execution_count": 31,
   "metadata": {},
   "outputs": [],
   "source": [
    "# 5. Combine above conditional tests using boolean operators\n",
    "# What are boolean operators?"
   ]
  },
  {
   "cell_type": "markdown",
   "metadata": {},
   "source": [
    "### Boolean operators\n",
    "\n",
    "-- https://problemsolvingwithpython.com/04-Data-Types-and-Variables/04.02-Boolean-Data-Type/\n",
    "\n",
    "A boolean or logical value can either be **True** or **False**. \n",
    "\n",
    "Boolean values can be manipulated and combined with boolean operators. Boolean operators in Python include:\n",
    "\n",
    "- *and*\n",
    "- *or*\n",
    "- *not*."
   ]
  },
  {
   "cell_type": "markdown",
   "metadata": {},
   "source": [
    "1. The boolean operator *and* requires both propositions to be True in order for the statement to evaluate to True. Here's an example:"
   ]
  },
  {
   "cell_type": "code",
   "execution_count": 32,
   "metadata": {},
   "outputs": [
    {
     "name": "stdout",
     "output_type": "stream",
     "text": [
      "True\n",
      "False\n",
      "True\n"
     ]
    }
   ],
   "source": [
    "print(7>3 and 7==7)\n",
    "print(3<7 and 7!=7)\n",
    "print(3<7 and 7==7)"
   ]
  },
  {
   "cell_type": "markdown",
   "metadata": {},
   "source": [
    "2. The boolean operator *or* requires at least one of the propositions to be True in order for the statement to evaluate to True."
   ]
  },
  {
   "cell_type": "code",
   "execution_count": 33,
   "metadata": {},
   "outputs": [
    {
     "name": "stdout",
     "output_type": "stream",
     "text": [
      "True\n",
      "True\n",
      "True\n"
     ]
    }
   ],
   "source": [
    "print(7>3 or 7==7)\n",
    "print(3<7 or 7!=7)\n",
    "print(7>3 or 7!=7)"
   ]
  },
  {
   "cell_type": "markdown",
   "metadata": {},
   "source": [
    "3. The boolean operator *not* needs only one operand. It returns True if its operand is a False expression and returns False if it is True. https://www.tutorialspoint.com/What-are-boolean-operators-in-Python"
   ]
  },
  {
   "cell_type": "code",
   "execution_count": 34,
   "metadata": {},
   "outputs": [
    {
     "name": "stdout",
     "output_type": "stream",
     "text": [
      "False\n",
      "True\n"
     ]
    }
   ],
   "source": [
    "a = 5\n",
    "print(a > 10)\n",
    "print(not (a > 10))"
   ]
  },
  {
   "cell_type": "markdown",
   "metadata": {},
   "source": [
    "### Order of boolean operations\n",
    "\n",
    "*not* > *and* > *or*"
   ]
  },
  {
   "cell_type": "markdown",
   "metadata": {},
   "source": [
    "What the result of these statements? Why?"
   ]
  },
  {
   "cell_type": "code",
   "execution_count": 35,
   "metadata": {},
   "outputs": [
    {
     "name": "stdout",
     "output_type": "stream",
     "text": [
      "True\n",
      "False\n",
      "True\n"
     ]
    }
   ],
   "source": [
    "print(not True and False or True)\n",
    "print(not False and False or False)\n",
    "print(True and False or not False)"
   ]
  },
  {
   "cell_type": "code",
   "execution_count": null,
   "metadata": {},
   "outputs": [],
   "source": []
  },
  {
   "cell_type": "markdown",
   "metadata": {},
   "source": [
    "# Python functions\n",
    "\n",
    "## 1. Python built-in functions\n",
    "\n",
    "Built-in functions: \n",
    "- Someone else wrote; \n",
    "- ready for you to use; \n",
    "- already included in the namespace (no need to import)\n",
    "\n",
    "How to call a built-in function:\n",
    "\n",
    "**function_name(arguments)**\n",
    "\n",
    "- The parenthesis are needed even there is no argument\n",
    "\n",
    "- The neighboring arguments are seperated by a comma\n",
    "\n",
    "- The inputs should exactly match the defined arguments (include the types and the number of arguments)\n",
    "\n",
    "- The outputs are the return values of the function\n",
    "\n",
    "##  "
   ]
  },
  {
   "cell_type": "markdown",
   "metadata": {},
   "source": [
    "**Practice:**\n",
    "\n",
    "min(arg1, arg2, *args)\n",
    "\n",
    "Return the smallest of two or more arguments.\n",
    "\n",
    "**Try:**\n",
    "\n",
    "Use this function to calculate the smallest of following number: 25, 13, 55, 19"
   ]
  },
  {
   "cell_type": "code",
   "execution_count": 36,
   "metadata": {},
   "outputs": [
    {
     "data": {
      "text/plain": [
       "13"
      ]
     },
     "execution_count": 36,
     "metadata": {},
     "output_type": "execute_result"
    }
   ],
   "source": [
    "min(25,13,55,19)"
   ]
  },
  {
   "cell_type": "markdown",
   "metadata": {},
   "source": [
    "For other Python built-in functions, please Google \"Python 3 built-in functions\" or open https://docs.python.org/3/library/functions.html"
   ]
  },
  {
   "cell_type": "markdown",
   "metadata": {},
   "source": [
    "## 2. Python imported functions\n",
    "\n",
    "There are numerous functions that are already written and ready for you to use. These functions are available in modules.\n",
    "\n",
    "These modules are Python code that developers have written and organized, and that you can bring it into your Python namespace to use."
   ]
  },
  {
   "cell_type": "markdown",
   "metadata": {},
   "source": [
    "### **Method 1:**\n",
    "\n",
    "Import the whole module: **import module_name**\n",
    "\n",
    "This makes all the functions in this module available.\n",
    "\n",
    "Call a function in this module: **module_name.function_name(function_arguments)**"
   ]
  },
  {
   "cell_type": "markdown",
   "metadata": {},
   "source": [
    "**Example:**\n"
   ]
  },
  {
   "cell_type": "code",
   "execution_count": 3,
   "metadata": {},
   "outputs": [
    {
     "name": "stdout",
     "output_type": "stream",
     "text": [
      "10.0\n"
     ]
    }
   ],
   "source": [
    "import math\n",
    "a = math.sqrt(100)\n",
    "print(a)"
   ]
  },
  {
   "cell_type": "markdown",
   "metadata": {},
   "source": [
    "**Practice:**\n",
    "\n",
    "The 'factorial' function in the 'math' module\n",
    "\n",
    "**factorial(x)**\n",
    "\n",
    "Return x factorial as an integer. Raises ValueError if x is not an integer or is negative.\n",
    "\n",
    "**Try:** Import the whole 'math' module; use the 'factorial' function to calculate factorial of 5:"
   ]
  },
  {
   "cell_type": "code",
   "execution_count": 4,
   "metadata": {},
   "outputs": [
    {
     "name": "stdout",
     "output_type": "stream",
     "text": [
      "3628800\n"
     ]
    }
   ],
   "source": [
    "import math\n",
    "print(math.factorial(10))"
   ]
  },
  {
   "cell_type": "markdown",
   "metadata": {},
   "source": [
    "### **Method 2:**\n",
    "\n",
    "Import specified functions from a module: **from  module_name  import  function_name[,*function_name]**\n",
    "\n",
    "Instead of importing the whole module, this 2nd method only import the specified functions\n",
    "\n",
    "Call an imported function: **function_name(function_arguments)**"
   ]
  },
  {
   "cell_type": "markdown",
   "metadata": {},
   "source": [
    "**Example:**"
   ]
  },
  {
   "cell_type": "code",
   "execution_count": null,
   "metadata": {},
   "outputs": [],
   "source": [
    "from math import sqrt\n",
    "a = sqrt(100)\n",
    "print(a)"
   ]
  },
  {
   "cell_type": "markdown",
   "metadata": {},
   "source": [
    "**Practice:**\n",
    "\n",
    "The 'randint' function in the 'random' module\n",
    "\n",
    "**randint(a, b)**\n",
    "\n",
    "Return a random integer N such that a <= N <= b.\n",
    "\n",
    "**Try:** Import the single 'randint' function from 'random' module, and use it to output a random integer N, where 1 <= N <= 100"
   ]
  },
  {
   "cell_type": "code",
   "execution_count": 6,
   "metadata": {},
   "outputs": [
    {
     "name": "stdout",
     "output_type": "stream",
     "text": [
      "1\n"
     ]
    }
   ],
   "source": [
    "from random import randint\n",
    "print(randint(0,1))"
   ]
  },
  {
   "cell_type": "markdown",
   "metadata": {},
   "source": [
    "## 3. A function of our own\n",
    "\n",
    "Define our own functions in Python:"
   ]
  },
  {
   "cell_type": "code",
   "execution_count": null,
   "metadata": {},
   "outputs": [],
   "source": [
    "# syntax of defining our own functions\n",
    "def function_name(arguments):\n",
    "    body of the function\n",
    "    return return_value"
   ]
  },
  {
   "cell_type": "markdown",
   "metadata": {},
   "source": [
    "**Pay attention:**\n",
    "\n",
    "1) each argument is a variable that you can use in this function; its value equals to the corresponding input when you call this function\n",
    "\n",
    "2) DO NOT forget the **colon** at the end of the first line\n",
    "\n",
    "3) return line is optional (no need if there is no return value)\n",
    "\n",
    "4) USE **indentation** to indicate the function body (all the indented lines after the **def** line are in this function)\n",
    "\n",
    "5) define a function BEFORE using it\n",
    "\n",
    "6) We call (or invoke) our function in the same way as we did for bulit-in functions, i.e. **function_name(arguments)**\n",
    "\n",
    "7) The lifetime of a function starts from calling it, and ends with return (or finishing the execution of all function body)"
   ]
  },
  {
   "cell_type": "markdown",
   "metadata": {},
   "source": [
    "**Example**\n",
    "\n",
    "Write a function that takes one temperature in Celsius as the input, and converts it to Fahrenheit, and returns the temperature in Fahrenheit. \n",
    "\n",
    "Formula: C * (9/5) + 32"
   ]
  },
  {
   "cell_type": "code",
   "execution_count": 11,
   "metadata": {},
   "outputs": [
    {
     "name": "stdout",
     "output_type": "stream",
     "text": [
      "413.6\n"
     ]
    }
   ],
   "source": [
    "def funct(C):\n",
    "    return C*(9/5)+32\n",
    "print(funct(212))"
   ]
  },
  {
   "cell_type": "markdown",
   "metadata": {},
   "source": [
    "## The Zen of Python"
   ]
  },
  {
   "cell_type": "code",
   "execution_count": null,
   "metadata": {},
   "outputs": [],
   "source": [
    "import this"
   ]
  },
  {
   "cell_type": "markdown",
   "metadata": {},
   "source": [
    "## Python namespaces and scope"
   ]
  },
  {
   "cell_type": "markdown",
   "metadata": {},
   "source": [
    "**What is name?**\n",
    "\n",
    "Name (also called identifier) is simply a name given to objects. Everything in Python is an object. Name is a way to access the underlying object. (https://www.programiz.com/python-programming/namespace)\n",
    "\n",
    "For example: \n",
    "\n",
    "variable name: a, b, ...\n",
    "\n",
    "function name: abs, print, type, ...\n",
    "\n",
    "module name: math, random, ...\n",
    "\n",
    "#  "
   ]
  },
  {
   "cell_type": "markdown",
   "metadata": {},
   "source": [
    "**What Are Namespaces?** \n",
    "\n",
    "A namespace is basically a system to make sure that all the names in a program are unique and can be used without any conflict. \n",
    "\n",
    "Multiple namespaces can use the same name and map it to a different object. Here are a few examples of namespaces:\n",
    "\n",
    "**Local Namespace:** This namespace includes local names inside a function. This namespace is created when a function is called, and it only lasts until the function returns.\n",
    "\n",
    "**Global Namespace:** This namespace includes names from various imported modules and names defined in the main program. They last until the script ends.\n",
    "\n",
    "**Built-in Namespace:** This namespace includes built-in functions and built-in exception names.\n",
    "\n",
    "Above contents refer to https://code.tutsplus.com/tutorials/what-are-python-namespaces-and-why-are-they-needed--cms-28598\n"
   ]
  },
  {
   "cell_type": "markdown",
   "metadata": {},
   "source": [
    "Open link: https://www.geeksforgeeks.org/namespaces-and-scope-in-python/"
   ]
  },
  {
   "cell_type": "markdown",
   "metadata": {},
   "source": [
    "**What is scope?**\n",
    "\n",
    "Scope refers to the coding region from which particular Python object is accessible.(https://www.geeksforgeeks.org/namespaces-and-scope-in-python/)\n",
    "\n",
    "1. Local names -->  in the local namespace  --> accessible in local function\n",
    "2. Global names --> in the global namespace --> accessible in the main program\n",
    "3. Built-in names  --> in the built-in namespace --> Outermost scope, always accessible\n",
    "\n",
    "Python searches a name in namespaces in this order: **from inner to outer**\n",
    "\n",
    "Python can't search name from outer namespace to inner namespace!!!\n",
    "\n"
   ]
  },
  {
   "cell_type": "markdown",
   "metadata": {},
   "source": [
    "## Summarize the namespaces\n",
    "\n",
    "- **Inner namespace, smaller scope, larger priority**\n",
    "\n",
    "- **Outer namespace, larger scope, smaller priority**"
   ]
  },
  {
   "cell_type": "markdown",
   "metadata": {},
   "source": [
    "**Question:** How about a name in the nested functions?"
   ]
  },
  {
   "cell_type": "code",
   "execution_count": null,
   "metadata": {},
   "outputs": [],
   "source": [
    "def outer():\n",
    "    name = 'outer function'\n",
    "    print(name)\n",
    "    \n",
    "    def inner():\n",
    "        name = 'inner function'\n",
    "        print(name)\n",
    "    inner()\n",
    "    print(name)\n",
    "\n",
    "name = 'main function'\n",
    "print(name)\n",
    "outer()\n",
    "print(name)"
   ]
  },
  {
   "cell_type": "code",
   "execution_count": null,
   "metadata": {},
   "outputs": [],
   "source": []
  },
  {
   "cell_type": "markdown",
   "metadata": {},
   "source": [
    "# Branching\n",
    "\n"
   ]
  },
  {
   "cell_type": "markdown",
   "metadata": {},
   "source": [
    "#  if statements"
   ]
  },
  {
   "cell_type": "markdown",
   "metadata": {},
   "source": [
    "## 1. Simple \"if statement\""
   ]
  },
  {
   "cell_type": "code",
   "execution_count": null,
   "metadata": {},
   "outputs": [],
   "source": [
    "# Syntax:\n",
    "if conditional_test:\n",
    "    code block"
   ]
  },
  {
   "cell_type": "markdown",
   "metadata": {},
   "source": [
    "**Pay attention:**\n",
    "\n",
    "1. The conditional_test could be comparison, chain comparison, membership operation, identity operation, boolean variable/value or boolen operation\n",
    "\n",
    "2. If conditional_test is **True**, execute the code block; otherwise, do nothing;\n",
    "\n",
    "3. Do NOT forget the **colon** at the end of **if** line;\n",
    "\n",
    "4. As in the function, we use **indentation** to indicate the code block (lines) included in this if statement;"
   ]
  },
  {
   "cell_type": "markdown",
   "metadata": {},
   "source": [
    "**Example:**\n",
    "\n",
    "Use a Python editor to write a program and test in command line.\n",
    "\n",
    "Define a function named **isEven()**, and use \"**if statement**\" in this function to: \n",
    "\n",
    "if the input ingeter is an even number, return **True**; otherwise return **False**."
   ]
  },
  {
   "cell_type": "code",
   "execution_count": 12,
   "metadata": {},
   "outputs": [
    {
     "name": "stdout",
     "output_type": "stream",
     "text": [
      "True\n"
     ]
    }
   ],
   "source": [
    "def isEven(x):\n",
    "    ret=False\n",
    "    if x%2==0:\n",
    "        ret=True\n",
    "    return ret\n",
    "print(isEven(12))"
   ]
  },
  {
   "cell_type": "markdown",
   "metadata": {},
   "source": [
    "## 2. if-else statement"
   ]
  },
  {
   "cell_type": "code",
   "execution_count": null,
   "metadata": {},
   "outputs": [],
   "source": [
    "# Syntax\n",
    "if conditional_test:\n",
    "    code block 1\n",
    "else:\n",
    "    code block 2"
   ]
  },
  {
   "cell_type": "markdown",
   "metadata": {},
   "source": [
    "1. Similar syntax with that of \"simple if statement\". **else** means otherwise.\n",
    "\n",
    "2. When conditional_test is **True**, execute code block 1 (then finished); otherwise, execute code block 2 (then finished).\n",
    "\n",
    "3. Either code block 1 or code block 2 will be executed.\n",
    "\n",
    "4. The **if** line and the **else** line are in the same indentation level."
   ]
  },
  {
   "cell_type": "markdown",
   "metadata": {},
   "source": [
    "**Example:**\n",
    "\n",
    "Use a Python editor to write a program and test in command line.\n",
    "\n",
    "Define a function named **isEven()**, and use \"**if-else statement**\" in this function to: \n",
    "\n",
    "if the input integer is an even number, return **True**; otherwise return **False**."
   ]
  },
  {
   "cell_type": "code",
   "execution_count": 1,
   "metadata": {},
   "outputs": [
    {
     "name": "stdout",
     "output_type": "stream",
     "text": [
      "False\n"
     ]
    }
   ],
   "source": [
    "def isEven(x):\n",
    "    if x%2==0:\n",
    "        return True\n",
    "    else:\n",
    "        return False\n",
    "print(isEven(13))"
   ]
  },
  {
   "cell_type": "markdown",
   "metadata": {},
   "source": [
    "## 3. if-elif-else statement"
   ]
  },
  {
   "cell_type": "code",
   "execution_count": null,
   "metadata": {},
   "outputs": [],
   "source": [
    "# Syntax\n",
    "if conditional_test_1:\n",
    "    code block 1\n",
    "elif conditional_test_2:\n",
    "    code block 2\n",
    "else:\n",
    "    code block 3"
   ]
  },
  {
   "cell_type": "markdown",
   "metadata": {},
   "source": [
    "1. Check conditional_test_1, if it is **True**, execute code block 1 and finish; otherwise go to the **elif** line. Check conditional_test_2, if it is **True**, execute code block 2 and finish; otherwise execute code block 3.\n",
    "\n",
    "2. You can have multiple **elif** statements here\n",
    "\n",
    "3. Only one and at most one code block will be executed.\n",
    "\n",
    "4. **else** line and code block 3 part is optional. However, if there is no **else** line, maybe NO code block will be executed."
   ]
  },
  {
   "cell_type": "markdown",
   "metadata": {},
   "source": [
    "**Example:**\n",
    "\n",
    "Ask a user to input his/her age, then print the park ticket price.\n",
    "\n",
    "Park ticket price:\n",
    "\n",
    "- age < 2: $0\n",
    "\n",
    "- 2 <= age <5: $2\n",
    "\n",
    "- 5 <= age < 10: $4\n",
    "\n",
    "- 10 <= age: $5"
   ]
  },
  {
   "cell_type": "code",
   "execution_count": 4,
   "metadata": {},
   "outputs": [
    {
     "name": "stdout",
     "output_type": "stream",
     "text": [
      "Ticket is $5\n"
     ]
    }
   ],
   "source": [
    "age=int(input('Enter your age: '))\n",
    "if age >0 and age < 2:\n",
    "    print('Ticket is Free')\n",
    "elif age>=2 and age<5:\n",
    "    print('Ticket is $2')\n",
    "elif age>=5 and age<10:\n",
    "    print('Ticket is $4')\n",
    "elif age>=10:\n",
    "    print('Ticket is $5')\n",
    "else:\n",
    "    print('Invalid Age')"
   ]
  },
  {
   "cell_type": "markdown",
   "metadata": {},
   "source": [
    "**Question:**\n",
    "\n",
    "If the conditional_tests in if and elif lines have overlap, what will happen?\n"
   ]
  },
  {
   "cell_type": "code",
   "execution_count": null,
   "metadata": {},
   "outputs": [],
   "source": []
  },
  {
   "cell_type": "markdown",
   "metadata": {},
   "source": [
    "## Python indentation\n",
    "\n",
    "-- Refer to https://www.programiz.com/python-programming/statement-indentation-comments\n",
    "\n",
    "1. Python uses indentation to define a block of code.\n",
    "\n",
    "2. A code block (body of a function, loop etc.) starts with indentation and ends with the **first unindented line**.\n",
    "\n",
    "3. The enforcement of indentation in Python makes the code look neat and clean."
   ]
  },
  {
   "cell_type": "markdown",
   "metadata": {},
   "source": [
    "**For example:**"
   ]
  },
  {
   "cell_type": "code",
   "execution_count": null,
   "metadata": {},
   "outputs": [],
   "source": [
    "def outer():\n",
    "    name = 'outer function'\n",
    "    print(name)\n",
    "    \n",
    "    def inner_1():\n",
    "        name = 'inner function 1'\n",
    "        print(name)\n",
    "    inner_1()\n",
    "    print(name)\n",
    "    \n",
    "    def inner_2():\n",
    "        name = 'inner function 2'\n",
    "        print(name)\n",
    "    inner_2()\n",
    "    print(name)\n",
    "\n",
    "name = 'main function'\n",
    "print(name)\n",
    "outer()\n",
    "print(name)"
   ]
  },
  {
   "cell_type": "code",
   "execution_count": null,
   "metadata": {},
   "outputs": [],
   "source": []
  },
  {
   "cell_type": "markdown",
   "metadata": {},
   "source": [
    "# Loops\n",
    "\n"
   ]
  },
  {
   "cell_type": "markdown",
   "metadata": {},
   "source": [
    "# while loop\n"
   ]
  },
  {
   "cell_type": "code",
   "execution_count": null,
   "metadata": {},
   "outputs": [],
   "source": [
    "# Syntax:\n",
    "while conditional_test:\n",
    "    code block"
   ]
  },
  {
   "cell_type": "markdown",
   "metadata": {},
   "source": [
    "1. Calculate the **conditional_test** first,1) if it is **False**, do nothing and finish; 2) if it is **True**, execute the code block, then go back to the **while** line to repeat this process (each repeat is called an iteration).\n",
    "\n",
    "2. **while** loop executes until the **conditional_test** is **False**.\n",
    "\n",
    "3. Be careful of infinite loop (i.e. the **conditional_test** is always True). Sometimes we need infinite loop.\n",
    "\n",
    "4. When we use **while** loop: we know exactly when the iteration should stop (maybe you do not know how many iterations there are)."
   ]
  },
  {
   "cell_type": "markdown",
   "metadata": {},
   "source": [
    "**Practice:**\n",
    "\n",
    "Use **while** loop to print number 1 to 10, each number is printed in one line"
   ]
  },
  {
   "cell_type": "code",
   "execution_count": 5,
   "metadata": {},
   "outputs": [
    {
     "name": "stdout",
     "output_type": "stream",
     "text": [
      "1\n",
      "2\n",
      "3\n",
      "4\n",
      "5\n",
      "6\n",
      "7\n",
      "8\n",
      "9\n",
      "10\n"
     ]
    }
   ],
   "source": [
    "i=1\n",
    "while i<=10:\n",
    "    print(i)\n",
    "    i+=1"
   ]
  },
  {
   "cell_type": "markdown",
   "metadata": {},
   "source": [
    "How to halt on infinite loops?\n",
    "\n",
    "- In jupyter notebook: interrupt the kernel\n",
    "- In command line: press \"Ctrl + C\""
   ]
  },
  {
   "cell_type": "markdown",
   "metadata": {},
   "source": [
    "## break VS continue\n",
    "\n",
    "1. Both of them are used in **while** or **for** loop to control the flow\n",
    "\n",
    "2. The **break** statement \"breaks out of the innermost enclosing **while** or **for** loop\"\n",
    "\n",
    "3. The **continue** statement \"contunues with the next iteration of the loop (do not execute the remaining part of this iteration; jump to **while** or **for** line to start the next iteration)\"\n",
    "\n",
    "4. The **break** and **continue** statements are often used together with **if** statement"
   ]
  },
  {
   "cell_type": "code",
   "execution_count": 5,
   "metadata": {},
   "outputs": [
    {
     "name": "stdout",
     "output_type": "stream",
     "text": [
      "1\n"
     ]
    }
   ],
   "source": [
    "# example of break\n",
    "i = 0\n",
    "while i < 10:\n",
    "    i = i + 1\n",
    "    if (i % 2) == 0:\n",
    "        break\n",
    "    print(i)"
   ]
  },
  {
   "cell_type": "code",
   "execution_count": 6,
   "metadata": {},
   "outputs": [
    {
     "name": "stdout",
     "output_type": "stream",
     "text": [
      "1\n",
      "3\n",
      "5\n",
      "7\n",
      "9\n"
     ]
    }
   ],
   "source": [
    "# example of continue\n",
    "i = 0\n",
    "while i < 10:\n",
    "    i = i + 1\n",
    "    if (i % 2) == 0:\n",
    "        continue\n",
    "    print(i)"
   ]
  },
  {
   "cell_type": "markdown",
   "metadata": {},
   "source": [
    "# for loop"
   ]
  },
  {
   "cell_type": "code",
   "execution_count": null,
   "metadata": {},
   "outputs": [],
   "source": [
    "# syntax of for loop\n",
    "\n",
    "for i in iterable_sequence:\n",
    "    code block"
   ]
  },
  {
   "cell_type": "markdown",
   "metadata": {},
   "source": [
    "1. **i** is index variable that defined by youself. The name of the index variable can be any valid variable name. It would be better to be descriptive.\n",
    "\n",
    "2. **iterable_sequence** is a sequence of members. It can be a list, a tuple, a dictionary, a set, or a string. \n",
    "\n",
    "3. The execution process: **for** loop iterates over the members of a sequence in order and one by one; for each iteration, it assigns the value of the corresponding member to the index variable, then executes the code block one time.\n",
    "\n",
    "4. When we use **for** loop: if you already know the sequence you are trying to iterate through (i.e. you know the number of iterations beforehand)."
   ]
  },
  {
   "cell_type": "code",
   "execution_count": 7,
   "metadata": {},
   "outputs": [
    {
     "name": "stdout",
     "output_type": "stream",
     "text": [
      "1\n",
      "2\n",
      "3\n",
      "4\n",
      "5\n"
     ]
    }
   ],
   "source": [
    "# example of for loop\n",
    "for i in [1,2,3,4,5]: # 1, 2, 3, 4, 5\n",
    "    print(i)"
   ]
  },
  {
   "cell_type": "markdown",
   "metadata": {},
   "source": [
    "## iterable sequence\n",
    "\n",
    "### Example 1: use range() built-in function to generate a sequence\n",
    "\n",
    "The following refers to https://docs.python.org/2/library/functions.html#range\n",
    "\n",
    "**range(stop)**\n",
    "\n",
    "or\n",
    "\n",
    "**range(start, stop[, step])**\n",
    "\n",
    "1. range() function creates a sequence containing arithmetic progressions. It is most often used in **for** loops. \n",
    "\n",
    "2. The arguments must be integers. If the step argument is omitted, it defaults to 1. If the start argument is omitted, it defaults to 0. \n",
    "\n",
    "3. It returns a sequence of integers **[start, start + step, start + 2 * step, ...]**. 1) If **step** is positive, the last element is the largest **start + i * step** less than **stop** (**stop - 1** is the upper bound); 2) If **step** is negative, the last element is the smallest **start + i * step** greater than **stop** (**stop + 1** is the lower bound). 3) **step** must not be zero. \n",
    "\n",
    "4. Pay Attention: in Python 2, range() function returns a list. However, in Python 3, it return a range data type (which is iterable). We can use list() function to transform range data type into list."
   ]
  },
  {
   "cell_type": "code",
   "execution_count": 8,
   "metadata": {},
   "outputs": [
    {
     "name": "stdout",
     "output_type": "stream",
     "text": [
      "range(0, 10)\n",
      "[0, 1, 2, 3, 4, 5, 6, 7, 8, 9]\n"
     ]
    }
   ],
   "source": [
    "a = range(10)\n",
    "print(a)\n",
    "print(list(a))"
   ]
  },
  {
   "cell_type": "code",
   "execution_count": 9,
   "metadata": {},
   "outputs": [
    {
     "name": "stdout",
     "output_type": "stream",
     "text": [
      "[1, 2, 3, 4, 5, 6, 7, 8, 9, 10]\n"
     ]
    }
   ],
   "source": [
    "a = range(1,11)\n",
    "print(list(a))"
   ]
  },
  {
   "cell_type": "code",
   "execution_count": 10,
   "metadata": {},
   "outputs": [
    {
     "name": "stdout",
     "output_type": "stream",
     "text": [
      "[0, 5, 10, 15, 20, 25]\n"
     ]
    }
   ],
   "source": [
    "a = range(0,30,5)\n",
    "print(list(a))"
   ]
  },
  {
   "cell_type": "code",
   "execution_count": 11,
   "metadata": {},
   "outputs": [
    {
     "name": "stdout",
     "output_type": "stream",
     "text": [
      "[0, -1, -2, -3, -4, -5, -6, -7, -8, -9]\n"
     ]
    }
   ],
   "source": [
    "a = range(0,-10,-1)\n",
    "print(list(a))"
   ]
  },
  {
   "cell_type": "markdown",
   "metadata": {},
   "source": [
    "### Example 2: use characters in a string as a sequence"
   ]
  },
  {
   "cell_type": "code",
   "execution_count": 12,
   "metadata": {},
   "outputs": [
    {
     "name": "stdout",
     "output_type": "stream",
     "text": [
      "a\n",
      "p\n",
      "p\n",
      "l\n",
      "e\n"
     ]
    }
   ],
   "source": [
    "word = 'apple'\n",
    "for character in word: # a, p, p, l, e\n",
    "    print(character)"
   ]
  },
  {
   "cell_type": "markdown",
   "metadata": {},
   "source": [
    "### Example 3: use elements in a list ( or a tuple, a dictionary, a set) as a sequence"
   ]
  },
  {
   "cell_type": "code",
   "execution_count": 13,
   "metadata": {},
   "outputs": [
    {
     "name": "stdout",
     "output_type": "stream",
     "text": [
      "1 2 3 4 5 6 7 "
     ]
    }
   ],
   "source": [
    "# element in a list\n",
    "a = [1,2,3,4,5,6,7]\n",
    "for number in a:\n",
    "    print(number,end=' ')"
   ]
  },
  {
   "cell_type": "markdown",
   "metadata": {},
   "source": [
    "### Nested while/for loop\n",
    "\n",
    "The outer loop executes one iteration, the inner loop exectures once fully.\n",
    "\n",
    "**Tips:** take the inner loop as a code block. For each iteration of the outer loop, this code block executes once."
   ]
  },
  {
   "cell_type": "code",
   "execution_count": 14,
   "metadata": {},
   "outputs": [
    {
     "name": "stdout",
     "output_type": "stream",
     "text": [
      "i= 0 ; j= 0\n",
      "i= 0 ; j= 1\n",
      "i= 1 ; j= 0\n",
      "i= 1 ; j= 1\n",
      "i= 2 ; j= 0\n",
      "i= 2 ; j= 1\n"
     ]
    }
   ],
   "source": [
    "# example\n",
    "for i in range(3): # 0, 1, 2\n",
    "    for j in range(2): #0, 1\n",
    "        print('i=',i,';','j=',j)"
   ]
  },
  {
   "cell_type": "code",
   "execution_count": null,
   "metadata": {},
   "outputs": [],
   "source": []
  }
 ],
 "metadata": {
  "kernelspec": {
   "display_name": "Python 3 (ipykernel)",
   "language": "python",
   "name": "python3"
  },
  "language_info": {
   "codemirror_mode": {
    "name": "ipython",
    "version": 3
   },
   "file_extension": ".py",
   "mimetype": "text/x-python",
   "name": "python",
   "nbconvert_exporter": "python",
   "pygments_lexer": "ipython3",
   "version": "3.11.0"
  },
  "vscode": {
   "interpreter": {
    "hash": "1a1af0ee75eeea9e2e1ee996c87e7a2b11a0bebd85af04bb136d915cefc0abce"
   }
  }
 },
 "nbformat": 4,
 "nbformat_minor": 2
}
