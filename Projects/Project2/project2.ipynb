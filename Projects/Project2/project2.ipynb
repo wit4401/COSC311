{
 "cells": [
  {
   "attachments": {},
   "cell_type": "markdown",
   "metadata": {
    "collapsed": false
   },
   "source": [
    "# Project 2\n",
    "## Task 1: KMeans Clustering"
   ]
  },
  {
   "cell_type": "code",
   "execution_count": 1,
   "metadata": {
    "collapsed": false
   },
   "outputs": [
    {
     "data": {
      "text/html": [
       "<div>\n",
       "<style scoped>\n",
       "    .dataframe tbody tr th:only-of-type {\n",
       "        vertical-align: middle;\n",
       "    }\n",
       "\n",
       "    .dataframe tbody tr th {\n",
       "        vertical-align: top;\n",
       "    }\n",
       "\n",
       "    .dataframe thead th {\n",
       "        text-align: right;\n",
       "    }\n",
       "</style>\n",
       "<table border=\"1\" class=\"dataframe\">\n",
       "  <thead>\n",
       "    <tr style=\"text-align: right;\">\n",
       "      <th></th>\n",
       "      <th>1</th>\n",
       "      <th>2</th>\n",
       "      <th>3</th>\n",
       "      <th>4</th>\n",
       "      <th>5</th>\n",
       "      <th>6</th>\n",
       "      <th>7</th>\n",
       "      <th>Room</th>\n",
       "    </tr>\n",
       "  </thead>\n",
       "  <tbody>\n",
       "    <tr>\n",
       "      <th>0</th>\n",
       "      <td>-64</td>\n",
       "      <td>-56</td>\n",
       "      <td>-61</td>\n",
       "      <td>-66</td>\n",
       "      <td>-71</td>\n",
       "      <td>-82</td>\n",
       "      <td>-81</td>\n",
       "      <td>1</td>\n",
       "    </tr>\n",
       "    <tr>\n",
       "      <th>1</th>\n",
       "      <td>-68</td>\n",
       "      <td>-57</td>\n",
       "      <td>-61</td>\n",
       "      <td>-65</td>\n",
       "      <td>-71</td>\n",
       "      <td>-85</td>\n",
       "      <td>-85</td>\n",
       "      <td>1</td>\n",
       "    </tr>\n",
       "    <tr>\n",
       "      <th>2</th>\n",
       "      <td>-63</td>\n",
       "      <td>-60</td>\n",
       "      <td>-60</td>\n",
       "      <td>-67</td>\n",
       "      <td>-76</td>\n",
       "      <td>-85</td>\n",
       "      <td>-84</td>\n",
       "      <td>1</td>\n",
       "    </tr>\n",
       "    <tr>\n",
       "      <th>3</th>\n",
       "      <td>-61</td>\n",
       "      <td>-60</td>\n",
       "      <td>-68</td>\n",
       "      <td>-62</td>\n",
       "      <td>-77</td>\n",
       "      <td>-90</td>\n",
       "      <td>-80</td>\n",
       "      <td>1</td>\n",
       "    </tr>\n",
       "    <tr>\n",
       "      <th>4</th>\n",
       "      <td>-63</td>\n",
       "      <td>-65</td>\n",
       "      <td>-60</td>\n",
       "      <td>-63</td>\n",
       "      <td>-77</td>\n",
       "      <td>-81</td>\n",
       "      <td>-87</td>\n",
       "      <td>1</td>\n",
       "    </tr>\n",
       "  </tbody>\n",
       "</table>\n",
       "</div>"
      ],
      "text/plain": [
       "    1   2   3   4   5   6   7  Room\n",
       "0 -64 -56 -61 -66 -71 -82 -81     1\n",
       "1 -68 -57 -61 -65 -71 -85 -85     1\n",
       "2 -63 -60 -60 -67 -76 -85 -84     1\n",
       "3 -61 -60 -68 -62 -77 -90 -80     1\n",
       "4 -63 -65 -60 -63 -77 -81 -87     1"
      ]
     },
     "execution_count": 1,
     "metadata": {},
     "output_type": "execute_result"
    }
   ],
   "source": [
    "from sklearn.cluster import KMeans\n",
    "from sklearn.metrics import confusion_matrix, accuracy_score\n",
    "import matplotlib.pyplot as plt\n",
    "import pandas as pd\n",
    "import numpy as np\n",
    "import seaborn as sns\n",
    "sns.set()\n",
    "\n",
    "wifi_data = pd.read_csv('wifi_localization.txt',sep='\\t',names=['1','2','3','4','5','6','7','Room'])\n",
    "wifi_data.head()"
   ]
  },
  {
   "cell_type": "code",
   "execution_count": 2,
   "metadata": {
    "collapsed": false
   },
   "outputs": [
    {
     "name": "stderr",
     "output_type": "stream",
     "text": [
      "/mnt/linuxlab/home/wtownsend2/.local/lib/python3.9/site-packages/sklearn/cluster/_kmeans.py:870: FutureWarning: The default value of `n_init` will change from 10 to 'auto' in 1.4. Set the value of `n_init` explicitly to suppress the warning\n",
      "  warnings.warn(\n"
     ]
    },
    {
     "name": "stdout",
     "output_type": "stream",
     "text": [
      "[-60.13346614 -55.20517928 -50.64940239 -61.28286853 -49.46613546\n",
      " -87.02191235 -86.99800797]\n",
      "[-35.43058824 -55.93411765 -55.72470588 -36.69411765 -67.32235294\n",
      " -71.59294118 -72.56941176]\n",
      "[-62.482 -56.312 -60.566 -64.204 -70.278 -82.956 -84.072]\n",
      "[-49.17102967 -55.15881326 -53.29144852 -50.03839442 -64.04537522\n",
      " -80.94240838 -81.85340314]\n"
     ]
    }
   ],
   "source": [
    "x = wifi_data[['1','2','3','4','5','6','7']]\n",
    "y = wifi_data['Room']-1\n",
    "\n",
    "task1_model = KMeans(n_clusters=4)\n",
    "clusters = task1_model.fit_predict(x)\n",
    "\n",
    "centers = task1_model.cluster_centers_\n",
    "print(*[center for center in centers],sep='\\n')"
   ]
  },
  {
   "cell_type": "code",
   "execution_count": 3,
   "metadata": {
    "collapsed": false
   },
   "outputs": [
    {
     "name": "stdout",
     "output_type": "stream",
     "text": [
      "Average Accuracy: 95.45%\n"
     ]
    },
    {
     "name": "stderr",
     "output_type": "stream",
     "text": [
      "/tmp/ipykernel_125301/4257478782.py:8: FutureWarning: Unlike other reduction functions (e.g. `skew`, `kurtosis`), the default behavior of `mode` typically preserves the axis it acts along. In SciPy 1.11.0, this behavior will change: the default value of `keepdims` will become False, the `axis` over which the statistic is taken will be eliminated, and the value None will no longer be accepted. Set `keepdims` to True or False to avoid this warning.\n",
      "  labels[mask] = mode(y[mask])[0]\n"
     ]
    }
   ],
   "source": [
    "from scipy.stats import mode\n",
    "\n",
    "# code helps use get the true labels of the clusters to accurately get an\n",
    "# accuracy score\n",
    "labels = np.zeros_like(clusters)\n",
    "for i in range(4):\n",
    "    mask = (clusters == i)\n",
    "    labels[mask] = mode(y[mask])[0]\n",
    "\n",
    "print('Average Accuracy:',str(accuracy_score(y,labels)*100)+'%')"
   ]
  },
  {
   "cell_type": "code",
   "execution_count": 4,
   "metadata": {
    "collapsed": false
   },
   "outputs": [
    {
     "data": {
      "text/plain": [
       "Text(0.5, 1.0, 'Confusion Matrix')"
      ]
     },
     "execution_count": 4,
     "metadata": {},
     "output_type": "execute_result"
    },
    {
     "data": {
      "image/png": "[encoded data removed]",
      "text/plain": [
       "<Figure size 500x600 with 1 Axes>"
      ]
     },
     "metadata": {},
     "output_type": "display_data"
    }
   ],
   "source": [
    "cmatrix = confusion_matrix(y,labels)\n",
    "fig, ax = plt.subplots(figsize=(5, 6))\n",
    "ax.matshow(cmatrix, cmap=plt.cm.Blues, alpha=0.3)\n",
    "for i in range(cmatrix.shape[0]):\n",
    "    for j in range(cmatrix.shape[1]):\n",
    "        ax.text(x=j, y=i,s=cmatrix[i, j], va='center', ha='center', size='large')\n",
    "plt.xlabel('Predictions')\n",
    "plt.ylabel('Actuals')\n",
    "plt.title('Confusion Matrix KMeans Clustering')"
   ]
  },
  {
   "cell_type": "code",
   "execution_count": 5,
   "metadata": {
    "collapsed": false
   },
   "outputs": [
    {
     "name": "stdout",
     "output_type": "stream",
     "text": [
      "Room 1 Accuracy: 99.2%\n",
      "Room 2 Accuracy: 85.0%\n",
      "Room 3 Accuracy: 98.4%\n",
      "Room 4 Accuracy: 99.2%\n"
     ]
    }
   ],
   "source": [
    "# these get use the accuracies of each using the confusion matrix above by divding the diagonals (our correctly predicted in each room/cluster)\n",
    "# by the total (accomplished by summing each row in the matrix (the actuals))\n",
    "actuals = np.diagonal(cmatrix)\n",
    "test = []\n",
    "for i in range(len(actuals)):\n",
    "    total = sum([cmatrix[i][j]for j in range(len(cmatrix))])\n",
    "    avg = actuals[i]/total*100\n",
    "    test.append(avg)\n",
    "    print('Room',i+1,'Accuracy:',str(avg)+'%')"
   ]
  },
  {
   "attachments": {},
   "cell_type": "markdown",
   "metadata": {
    "collapsed": false
   },
   "source": [
    "# Task 2: PCA Analysis"
   ]
  },
  {
   "cell_type": "code",
   "execution_count": 50,
   "metadata": {
    "collapsed": false
   },
   "outputs": [
    {
     "name": "stdout",
     "output_type": "stream",
     "text": [
      "Components required for 90% variance: 21\n"
     ]
    }
   ],
   "source": [
    "from sklearn.datasets import load_digits\n",
    "from sklearn.decomposition import PCA\n",
    "\n",
    "digits = load_digits()\n",
    "max_components = 1\n",
    "flag = False\n",
    "while max_components<64:\n",
    "    pca = PCA(n_components=max_components)\n",
    "    x = pca.fit_transform(digits.data)\n",
    "    y = digits.target\n",
    "    if sum(pca.explained_variance_ratio_)>=0.9:\n",
    "        flag=True\n",
    "        break\n",
    "    max_components+=1\n",
    "if flag:\n",
    "    print('Components required for 90% variance:',max_components)\n",
    "else:\n",
    "    print('90% variance not reached.(maximum components reached)')"
   ]
  },
  {
   "cell_type": "code",
   "execution_count": 77,
   "metadata": {
    "collapsed": false
   },
   "outputs": [
    {
     "name": "stdout",
     "output_type": "stream",
     "text": [
      "CVT Average accuracy (folds=10): 0.7106579764121663\n"
     ]
    }
   ],
   "source": [
    "from sklearn.neighbors import KNeighborsClassifier\n",
    "from sklearn.model_selection import cross_val_score, cross_val_predict, KFold\n",
    "\n",
    "data = digits.data.tolist()\n",
    "target = digits.target\n",
    "for i in range(len(target)):\n",
    "    data[i].append(target[i])\n",
    "\n",
    "df = pd.DataFrame(data).drop(columns=[i for i in range(21,64)],inplace=False)\n",
    "X = df[[i for i in range(0,21)]].values\n",
    "Y = df[64].values\n",
    "\n",
    "knn = KNeighborsClassifier(n_neighbors=17)\n",
    "kf = KFold(n_splits=10, random_state=None)\n",
    "print(\"CVT Average accuracy (folds=10): {}\".format(cross_val_score(knn,X,Y,cv=kf).mean()))"
   ]
  },
  {
   "cell_type": "code",
   "execution_count": 78,
   "metadata": {},
   "outputs": [
    {
     "data": {
      "text/plain": [
       "Text(0.5, 1.0, 'Confusion Matrix Cross Validation Test')"
      ]
     },
     "execution_count": 78,
     "metadata": {},
     "output_type": "execute_result"
    },
    {
     "data": {
      "image/png": "[encoded data removed]",
      "text/plain": [
       "<Figure size 500x600 with 1 Axes>"
      ]
     },
     "metadata": {},
     "output_type": "display_data"
    }
   ],
   "source": [
    "predict = cross_val_predict(knn,X,Y,cv=kf)\n",
    "\n",
    "cmatrix = confusion_matrix(Y,predict)\n",
    "fig, ax = plt.subplots(figsize=(5, 6))\n",
    "ax.matshow(cmatrix, cmap=plt.cm.Blues, alpha=0.3)\n",
    "for i in range(cmatrix.shape[0]):\n",
    "    for j in range(cmatrix.shape[1]):\n",
    "        ax.text(x=j, y=i,s=cmatrix[i, j], va='center', ha='center', size='large')\n",
    "plt.xlabel('Predictions')\n",
    "plt.ylabel('Actuals')\n",
    "plt.title('Confusion Matrix Cross Validation Test')"
   ]
  },
  {
   "attachments": {},
   "cell_type": "markdown",
   "metadata": {
    "collapsed": false
   },
   "source": [
    "# Task 3: Regression"
   ]
  },
  {
   "cell_type": "code",
   "execution_count": 79,
   "metadata": {
    "collapsed": false
   },
   "outputs": [
    {
     "data": {
      "text/plain": [
       "housing_median_age    0.105623\n",
       "total_rooms           0.134153\n",
       "total_bedrooms        0.049686\n",
       "population           -0.024650\n",
       "median_income         0.688075\n",
       "Name: median_house_value, dtype: float64"
      ]
     },
     "execution_count": 79,
     "metadata": {},
     "output_type": "execute_result"
    }
   ],
   "source": [
    "housing_data = pd.read_csv('housing.csv')\n",
    "housing_data = housing_data.drop(columns=['ocean_proximity'])\n",
    "housing_data.corr()['median_house_value'][['housing_median_age','total_rooms','total_bedrooms','population','median_income']]"
   ]
  },
  {
   "cell_type": "code",
   "execution_count": 9,
   "metadata": {
    "collapsed": false
   },
   "outputs": [],
   "source": [
    "from sklearn.model_selection import train_test_split\n",
    "from sklearn.linear_model import LinearRegression\n",
    "\n",
    "X = housing_data[['housing_median_age','total_rooms','median_income']]\n",
    "y = housing_data['median_house_value']\n",
    "\n",
    "x_train,x_test,y_train,y_test = train_test_split(X,y,test_size=0.4,random_state=0)"
   ]
  },
  {
   "cell_type": "code",
   "execution_count": 10,
   "metadata": {
    "collapsed": false
   },
   "outputs": [
    {
     "name": "stdout",
     "output_type": "stream",
     "text": [
      "MAE: 60378.62097652892\n",
      "MSE: 6607470379.44292\n",
      "RMSE: 81286.34805084381\n",
      "\n",
      "Average Accuracy: 50.45117874828839%\n"
     ]
    }
   ],
   "source": [
    "lin_model = LinearRegression()\n",
    "lin_model.fit(x_train,y_train)\n",
    "y_predict = lin_model.predict(x_test)\n",
    "\n",
    "from sklearn.metrics import mean_absolute_error, mean_squared_error\n",
    "print('MAE:',mean_absolute_error(y_test, y_predict))\n",
    "print('MSE:',mean_squared_error(y_test, y_predict))\n",
    "print('RMSE:',np.sqrt(mean_squared_error(y_test, y_predict)))\n",
    "print('\\nAverage Accuracy:',str(lin_model.score(x_test,y_test)*100) + '%')"
   ]
  },
  {
   "cell_type": "code",
   "execution_count": null,
   "metadata": {
    "collapsed": false
   },
   "outputs": [],
   "source": []
  }
 ],
 "metadata": {
  "kernelspec": {
   "argv": [
    "/usr/bin/python3",
    "-m",
    "ipykernel",
    "--matplotlib=inline",
    "-c",
    "%config InlineBackend.figure_formats = set(['retina'])\nimport matplotlib; matplotlib.rcParams['figure.figsize'] = (12, 7)",
    "-f",
    "{connection_file}"
   ],
   "display_name": "Python 3 (system-wide)",
   "env": {},
   "language": "python",
   "metadata": {
    "cocalc": {
     "description": "Python 3 programming language",
     "priority": 100,
     "url": "https://www.python.org/"
    }
   },
   "name": "python3",
   "resource_dir": "/ext/jupyter/kernels/python3"
  },
  "language_info": {
   "codemirror_mode": {
    "name": "ipython",
    "version": 3
   },
   "file_extension": ".py",
   "mimetype": "text/x-python",
   "name": "python",
   "nbconvert_exporter": "python",
   "pygments_lexer": "ipython3",
   "version": "3.9.2"
  },
  "orig_nbformat": 4,
  "vscode": {
   "interpreter": {
    "hash": "e7370f93d1d0cde622a1f8e1c04877d8463912d04d973331ad4851f04de6915a"
   }
  }
 },
 "nbformat": 4,
 "nbformat_minor": 4
}
