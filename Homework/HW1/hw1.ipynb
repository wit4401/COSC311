{
 "cells": [
  {
   "attachments": {},
   "cell_type": "markdown",
   "metadata": {},
   "source": [
    "# Homework 1\n",
    "\n",
    "## 1. Triangular Number Sequence\n",
    "The Triangular Number Sequence is generated from a pattern of dots that form a triangle. By adding another row of dots and counting all the dots we can find the next number of the sequence (https://www.mathsisfun.com/numberpatterns.html):\n",
    "\n",
    "Thus, the Triangular Number Sequence is **1, 3, 6, 10, 15, 21, 28, 36, 45, ...**\n",
    "1) Write a program to:</br></br>\n",
    "    * Print out the first 20 numbers of the Triangular Number Sequence\n",
    "    * Calculate and output the sum of even numbers and sum of odd numbers, respectively, in the first 20 numbers</br></br>\n",
    "2) Test your code"
   ]
  },
  {
   "cell_type": "code",
   "execution_count": 24,
   "metadata": {},
   "outputs": [
    {
     "name": "stdout",
     "output_type": "stream",
     "text": [
      "1 -> 3 -> 6 -> 10 -> 15 -> 21 -> 28 -> 36 -> 45 -> 55 -> 66 -> 78 -> 91 -> 105 -> 120 -> 136 -> 153 -> 171 -> 190 -> 210 -> \n",
      "Odd Value Sum: 660\n",
      "Even Value Sum: 880\n"
     ]
    }
   ],
   "source": [
    "# HW 1.1\n",
    "oddSum=0 # define oddSum variable\n",
    "evenSum=0 # define evenSum variable\n",
    "currValue=1 # define currValue variable with the first in the sequence\n",
    "\n",
    "# Loops until it reach the 20th value in the arithmetic sequence\n",
    "for i in range(2,22):\n",
    "    print(currValue,'->',end=\" \") # prints out the current number in the sequence\n",
    "    \n",
    "    # if current value is even: adds to the even sum | if not: adds to the odd sum\n",
    "    if currValue%2==0:\n",
    "        evenSum+=currValue\n",
    "    else:\n",
    "        oddSum+=currValue\n",
    "        \n",
    "    currValue+=i # gets the next sum in the arithmetic sequence a_n+1 = a_n + (n+2) ( n = 0, 1, 2,... ) (hence i starting at 2)\n",
    "\n",
    "# print out the resulting sums from the sequence as defined in the problem\n",
    "print('\\nOdd Value Sum:',oddSum)\n",
    "print('Even Value Sum:',evenSum)"
   ]
  },
  {
   "attachments": {},
   "cell_type": "markdown",
   "metadata": {},
   "source": [
    "## 2. Construct Decision Tree Model Using If-Statement\n",
    "1) Write a program to:\n",
    "    * Define a function to take three inputs (outlook, humidity, and wind). It uses a nested if-statement to express the following decision tree model. This function returns either True or False to indicate whether a user will play tennis or not.</br></br>\n",
    "    <p align=\"center\"><img src=\"img1.jpg\"/></p></br></br>\n",
    "    * In the main function, ask user input the values for outlook, humidity, and wind, respectively; call the above function to get result, then output whether the user should play tennis or not.</br></br>\n",
    "2) Test your code using the following samples</br>\n",
    "<center>\n",
    "\n",
    "| Outlook | Humidity |  Wind  |\n",
    "|---------|----------|--------|\n",
    "|  Sunny  |   High   |  Weak  |\n",
    "| Overcast|  Normal  | Strong |\n",
    "|   Rain  |   High   | Strong |\n",
    "\n",
    "</center>\n",
    "\n"
   ]
  },
  {
   "cell_type": "code",
   "execution_count": 9,
   "metadata": {},
   "outputs": [
    {
     "name": "stdout",
     "output_type": "stream",
     "text": [
      "Not optimal conditions to play tennis\n"
     ]
    }
   ],
   "source": [
    "# HW 1.2\n",
    "def should_play(outlook,humidity,wind):\n",
    "    retval=True # declare retval with default condition True\n",
    "    \n",
    "    if outlook==0: # if outlook sunny\n",
    "        if humidity: # if humidity is high\n",
    "            retval=False # return False (set retval)\n",
    "    \n",
    "    elif outlook==1: # if outlook is rain \n",
    "        if wind: # if wind is strong\n",
    "            retval=False # return False (set retval)\n",
    "\n",
    "    return retval # return result of the decision tree\n",
    "\n",
    "if __name__==\"__main__\":\n",
    "    outlook=int(input('Please enter outlook (0 = Sunny, 1 = Rain, 2+ = Overcast):')) # user input for 0 (Sunny), 1 (Rainy), or 2 (Overcast)\n",
    "    humidity=int(input('Please enter humidity (0 = High, 1 = Normal):')) # user input for 0 (High) or 1 (Normal)\n",
    "    wind=int(input('Please enter wind speed (0 = Strong, 1 = Weak):')) # user input for 0 (Strong) or 1 (Weak)\n",
    "\n",
    "    # if the function return true: optimal for tennis & if not: not optimal for tennis and tell user\n",
    "    if should_play(outlook,humidity,wind):\n",
    "        print('Optimal conditions to play tennis')\n",
    "    else:\n",
    "        print('Not optimal conditions to play tennis')"
   ]
  },
  {
   "attachments": {},
   "cell_type": "markdown",
   "metadata": {},
   "source": [
    "## 3. Draw an octagon\n",
    "1) Write a program to:\n",
    "    * Define a function to take a side length, L, as input. It draws an octagon of length L using asterisks (*). For example, if the L = 5, it will draw an octagon as shown below.\n",
    "    * In the main function, ask user input the side length; you need to do input validation check so that the input side length must be greater or equal to 2 (otherwise, ask user input again till it is valid)\n",
    "<center> \n",
    "    *****</br>\n",
    "    *******</br>\n",
    "    *********</br>\n",
    "    ***********</br>\n",
    "    *************</br>\n",
    "    *************</br>\n",
    "    *************</br>\n",
    "    *************</br>\n",
    "    *************</br>\n",
    "    ***********</br>\n",
    "    *********</br>\n",
    "    *******</br>\n",
    "    *****</br> \n",
    "</center>\n",
    "    \n",
    "2) Test your program using at least 3 different side length inputs.\n"
   ]
  },
  {
   "cell_type": "code",
   "execution_count": 29,
   "metadata": {},
   "outputs": [
    {
     "name": "stdout",
     "output_type": "stream",
     "text": [
      "    *****\n",
      "   *******\n",
      "  *********\n",
      " ***********\n",
      "*************\n",
      "*************\n",
      "*************\n",
      "*************\n",
      "*************\n",
      " ***********\n",
      "  *********\n",
      "   *******\n",
      "    *****\n"
     ]
    }
   ],
   "source": [
    "# HW 1.3\n",
    "def draw_octagon(L):\n",
    "    # instructions for the top portion of the octagon (L-1) lines increasing by 2 '*' each line\n",
    "    for i in range(L-1,0,-1):\n",
    "        # for loop for white space starting with L-1 spaces and decreasing by 1\n",
    "        for j in range(0,i):\n",
    "            print(' ',end=\"\")\n",
    "        # for loop for the '*' characters starting with L and increasing to L+(L-1)*2\n",
    "        for j in range(0,(L-1-i)*2+L):\n",
    "            print('*',end=\"\")\n",
    "        print()\n",
    "    \n",
    "    # instructions for the middle of the octagon a rectangle ( L x (2x(L-1)+L) )\n",
    "    for i in range(0,L):\n",
    "        # print the line of '*' with (2x(L-1)+L) of them\n",
    "        for j in range(0,2*(L-1)+L):\n",
    "            print('*',end=\"\")\n",
    "        print()\n",
    "    \n",
    "    # instructions for the bottom portion of the octagon (L-1) lines decreasing by two '*' each line\n",
    "    # essentially it is the reverse of the top portion\n",
    "    for i in range(1,L):\n",
    "        for j in range(i,0,-1):\n",
    "            print(' ',end=\"\")\n",
    "        for j in range((L-1-i)*2+L,0,-1):\n",
    "            print('*',end=\"\")\n",
    "        print()\n",
    "\n",
    "# just some proper python syntax when defining functions for some flair\n",
    "if __name__==\"__main__\":\n",
    "    L = -1\n",
    "    # Loop that checks for the proper length\n",
    "    while L < 2:\n",
    "        L = int(input('Enter length of the octagon (L>1): '))\n",
    "        \n",
    "        # L is less than 2 print invalid input and repeats with another user input\n",
    "        if L<2: \n",
    "            print('Invalid Input')\n",
    "\n",
    "    draw_octagon(L) # calls the function"
   ]
  },
  {
   "attachments": {},
   "cell_type": "markdown",
   "metadata": {},
   "source": [
    "## 4. Monte Carlo Simulation\n",
    "If we roll two fair dice, there are 11 possible values, as shown in the following figure (left):\n",
    "\n",
    "<center><img src=\"img2.jpg\"/></center>\n",
    "\n",
    "1) Write a program to roll the two dice n times, then calculate the probability for each value, as shown in the above figure (right). Keep 2 digits after the decimal point for the probability results.\n",
    "\n",
    "2) Test your program using n = 100 and n = 100,000 respectively, and show the probability for each value."
   ]
  },
  {
   "cell_type": "code",
   "execution_count": 21,
   "metadata": {},
   "outputs": [
    {
     "name": "stdout",
     "output_type": "stream",
     "text": [
      "probability of rolling 2: 2.75%\n",
      "probability of rolling 3: 5.64%\n",
      "probability of rolling 4: 8.23%\n",
      "probability of rolling 5: 11.28%\n",
      "probability of rolling 6: 13.92%\n",
      "probability of rolling 7: 16.42%\n",
      "probability of rolling 8: 13.78%\n",
      "probability of rolling 9: 11.29%\n",
      "probability of rolling 10: 8.33%\n",
      "probability of rolling 11: 5.57%\n",
      "probability of rolling 12: 2.78%\n"
     ]
    }
   ],
   "source": [
    "# HW 1.4\n",
    "from random import randint # import randint from random\n",
    "\n",
    "totals=[0 for i in range(11)] # list will stores the total number of times a sum is rolled\n",
    "n=int(input(\"Enter number of simulations: \")) # user input for the number of simulations\n",
    "\n",
    "# Loop runs until the proper number of simulations have been ran\n",
    "for i in range(n):\n",
    "    die1=randint(1,6) # generate outcome for die 1\n",
    "    die2=randint(1,6) # generate outcome for die 2\n",
    "    totals[die1+die2-2]+=1 # adds to the proper total in the list\n",
    "\n",
    "i=2 # an iterator for a user friendly output\n",
    "\n",
    "# Loop to print all the probabilities of possible sums ( total_rolled/total_sims * 100% )\n",
    "for val in totals:\n",
    "    print('probability of rolling {}: {:3.2f}%'.format(i,float(val/n)*100))\n",
    "    i+=1 # increment in the iterator\n"
   ]
  }
 ],
 "metadata": {
  "kernelspec": {
   "display_name": "Python 3",
   "language": "python",
   "name": "python3"
  },
  "language_info": {
   "codemirror_mode": {
    "name": "ipython",
    "version": 3
   },
   "file_extension": ".py",
   "mimetype": "text/x-python",
   "name": "python",
   "nbconvert_exporter": "python",
   "pygments_lexer": "ipython3",
   "version": "3.11.0"
  },
  "orig_nbformat": 4,
  "vscode": {
   "interpreter": {
    "hash": "1a1af0ee75eeea9e2e1ee996c87e7a2b11a0bebd85af04bb136d915cefc0abce"
   }
  }
 },
 "nbformat": 4,
 "nbformat_minor": 2
}
